{
 "cells": [
  {
   "cell_type": "code",
   "execution_count": 1,
   "metadata": {},
   "outputs": [],
   "source": [
    "import numpy as np\n",
    "import pandas as pd\n",
    "import matplotlib.pyplot as plt\n",
    "import seaborn as sns"
   ]
  },
  {
   "cell_type": "code",
   "execution_count": 2,
   "metadata": {},
   "outputs": [],
   "source": [
    "import warnings\n",
    "warnings.filterwarnings(\"ignore\")"
   ]
  },
  {
   "cell_type": "code",
   "execution_count": 3,
   "metadata": {},
   "outputs": [
    {
     "data": {
      "text/html": [
       "<div>\n",
       "<style scoped>\n",
       "    .dataframe tbody tr th:only-of-type {\n",
       "        vertical-align: middle;\n",
       "    }\n",
       "\n",
       "    .dataframe tbody tr th {\n",
       "        vertical-align: top;\n",
       "    }\n",
       "\n",
       "    .dataframe thead th {\n",
       "        text-align: right;\n",
       "    }\n",
       "</style>\n",
       "<table border=\"1\" class=\"dataframe\">\n",
       "  <thead>\n",
       "    <tr style=\"text-align: right;\">\n",
       "      <th></th>\n",
       "      <th>Prospect ID</th>\n",
       "      <th>Lead Number</th>\n",
       "      <th>Lead Origin</th>\n",
       "      <th>Lead Source</th>\n",
       "      <th>Do Not Email</th>\n",
       "      <th>Do Not Call</th>\n",
       "      <th>Converted</th>\n",
       "      <th>TotalVisits</th>\n",
       "      <th>Total Time Spent on Website</th>\n",
       "      <th>Page Views Per Visit</th>\n",
       "      <th>...</th>\n",
       "      <th>Get updates on DM Content</th>\n",
       "      <th>Lead Profile</th>\n",
       "      <th>City</th>\n",
       "      <th>Asymmetrique Activity Index</th>\n",
       "      <th>Asymmetrique Profile Index</th>\n",
       "      <th>Asymmetrique Activity Score</th>\n",
       "      <th>Asymmetrique Profile Score</th>\n",
       "      <th>I agree to pay the amount through cheque</th>\n",
       "      <th>A free copy of Mastering The Interview</th>\n",
       "      <th>Last Notable Activity</th>\n",
       "    </tr>\n",
       "  </thead>\n",
       "  <tbody>\n",
       "    <tr>\n",
       "      <th>0</th>\n",
       "      <td>7927b2df-8bba-4d29-b9a2-b6e0beafe620</td>\n",
       "      <td>660737</td>\n",
       "      <td>API</td>\n",
       "      <td>Olark Chat</td>\n",
       "      <td>No</td>\n",
       "      <td>No</td>\n",
       "      <td>0</td>\n",
       "      <td>0.0</td>\n",
       "      <td>0</td>\n",
       "      <td>0.0</td>\n",
       "      <td>...</td>\n",
       "      <td>No</td>\n",
       "      <td>Select</td>\n",
       "      <td>Select</td>\n",
       "      <td>02.Medium</td>\n",
       "      <td>02.Medium</td>\n",
       "      <td>15.0</td>\n",
       "      <td>15.0</td>\n",
       "      <td>No</td>\n",
       "      <td>No</td>\n",
       "      <td>Modified</td>\n",
       "    </tr>\n",
       "    <tr>\n",
       "      <th>1</th>\n",
       "      <td>2a272436-5132-4136-86fa-dcc88c88f482</td>\n",
       "      <td>660728</td>\n",
       "      <td>API</td>\n",
       "      <td>Organic Search</td>\n",
       "      <td>No</td>\n",
       "      <td>No</td>\n",
       "      <td>0</td>\n",
       "      <td>5.0</td>\n",
       "      <td>674</td>\n",
       "      <td>2.5</td>\n",
       "      <td>...</td>\n",
       "      <td>No</td>\n",
       "      <td>Select</td>\n",
       "      <td>Select</td>\n",
       "      <td>02.Medium</td>\n",
       "      <td>02.Medium</td>\n",
       "      <td>15.0</td>\n",
       "      <td>15.0</td>\n",
       "      <td>No</td>\n",
       "      <td>No</td>\n",
       "      <td>Email Opened</td>\n",
       "    </tr>\n",
       "    <tr>\n",
       "      <th>2</th>\n",
       "      <td>8cc8c611-a219-4f35-ad23-fdfd2656bd8a</td>\n",
       "      <td>660727</td>\n",
       "      <td>Landing Page Submission</td>\n",
       "      <td>Direct Traffic</td>\n",
       "      <td>No</td>\n",
       "      <td>No</td>\n",
       "      <td>1</td>\n",
       "      <td>2.0</td>\n",
       "      <td>1532</td>\n",
       "      <td>2.0</td>\n",
       "      <td>...</td>\n",
       "      <td>No</td>\n",
       "      <td>Potential Lead</td>\n",
       "      <td>Mumbai</td>\n",
       "      <td>02.Medium</td>\n",
       "      <td>01.High</td>\n",
       "      <td>14.0</td>\n",
       "      <td>20.0</td>\n",
       "      <td>No</td>\n",
       "      <td>Yes</td>\n",
       "      <td>Email Opened</td>\n",
       "    </tr>\n",
       "    <tr>\n",
       "      <th>3</th>\n",
       "      <td>0cc2df48-7cf4-4e39-9de9-19797f9b38cc</td>\n",
       "      <td>660719</td>\n",
       "      <td>Landing Page Submission</td>\n",
       "      <td>Direct Traffic</td>\n",
       "      <td>No</td>\n",
       "      <td>No</td>\n",
       "      <td>0</td>\n",
       "      <td>1.0</td>\n",
       "      <td>305</td>\n",
       "      <td>1.0</td>\n",
       "      <td>...</td>\n",
       "      <td>No</td>\n",
       "      <td>Select</td>\n",
       "      <td>Mumbai</td>\n",
       "      <td>02.Medium</td>\n",
       "      <td>01.High</td>\n",
       "      <td>13.0</td>\n",
       "      <td>17.0</td>\n",
       "      <td>No</td>\n",
       "      <td>No</td>\n",
       "      <td>Modified</td>\n",
       "    </tr>\n",
       "    <tr>\n",
       "      <th>4</th>\n",
       "      <td>3256f628-e534-4826-9d63-4a8b88782852</td>\n",
       "      <td>660681</td>\n",
       "      <td>Landing Page Submission</td>\n",
       "      <td>Google</td>\n",
       "      <td>No</td>\n",
       "      <td>No</td>\n",
       "      <td>1</td>\n",
       "      <td>2.0</td>\n",
       "      <td>1428</td>\n",
       "      <td>1.0</td>\n",
       "      <td>...</td>\n",
       "      <td>No</td>\n",
       "      <td>Select</td>\n",
       "      <td>Mumbai</td>\n",
       "      <td>02.Medium</td>\n",
       "      <td>01.High</td>\n",
       "      <td>15.0</td>\n",
       "      <td>18.0</td>\n",
       "      <td>No</td>\n",
       "      <td>No</td>\n",
       "      <td>Modified</td>\n",
       "    </tr>\n",
       "  </tbody>\n",
       "</table>\n",
       "<p>5 rows × 37 columns</p>\n",
       "</div>"
      ],
      "text/plain": [
       "                            Prospect ID  Lead Number              Lead Origin  \\\n",
       "0  7927b2df-8bba-4d29-b9a2-b6e0beafe620       660737                      API   \n",
       "1  2a272436-5132-4136-86fa-dcc88c88f482       660728                      API   \n",
       "2  8cc8c611-a219-4f35-ad23-fdfd2656bd8a       660727  Landing Page Submission   \n",
       "3  0cc2df48-7cf4-4e39-9de9-19797f9b38cc       660719  Landing Page Submission   \n",
       "4  3256f628-e534-4826-9d63-4a8b88782852       660681  Landing Page Submission   \n",
       "\n",
       "      Lead Source Do Not Email Do Not Call  Converted  TotalVisits  \\\n",
       "0      Olark Chat           No          No          0          0.0   \n",
       "1  Organic Search           No          No          0          5.0   \n",
       "2  Direct Traffic           No          No          1          2.0   \n",
       "3  Direct Traffic           No          No          0          1.0   \n",
       "4          Google           No          No          1          2.0   \n",
       "\n",
       "   Total Time Spent on Website  Page Views Per Visit  ...  \\\n",
       "0                            0                   0.0  ...   \n",
       "1                          674                   2.5  ...   \n",
       "2                         1532                   2.0  ...   \n",
       "3                          305                   1.0  ...   \n",
       "4                         1428                   1.0  ...   \n",
       "\n",
       "  Get updates on DM Content    Lead Profile    City  \\\n",
       "0                        No          Select  Select   \n",
       "1                        No          Select  Select   \n",
       "2                        No  Potential Lead  Mumbai   \n",
       "3                        No          Select  Mumbai   \n",
       "4                        No          Select  Mumbai   \n",
       "\n",
       "  Asymmetrique Activity Index Asymmetrique Profile Index  \\\n",
       "0                   02.Medium                  02.Medium   \n",
       "1                   02.Medium                  02.Medium   \n",
       "2                   02.Medium                    01.High   \n",
       "3                   02.Medium                    01.High   \n",
       "4                   02.Medium                    01.High   \n",
       "\n",
       "  Asymmetrique Activity Score Asymmetrique Profile Score  \\\n",
       "0                        15.0                       15.0   \n",
       "1                        15.0                       15.0   \n",
       "2                        14.0                       20.0   \n",
       "3                        13.0                       17.0   \n",
       "4                        15.0                       18.0   \n",
       "\n",
       "  I agree to pay the amount through cheque  \\\n",
       "0                                       No   \n",
       "1                                       No   \n",
       "2                                       No   \n",
       "3                                       No   \n",
       "4                                       No   \n",
       "\n",
       "  A free copy of Mastering The Interview Last Notable Activity  \n",
       "0                                     No              Modified  \n",
       "1                                     No          Email Opened  \n",
       "2                                    Yes          Email Opened  \n",
       "3                                     No              Modified  \n",
       "4                                     No              Modified  \n",
       "\n",
       "[5 rows x 37 columns]"
      ]
     },
     "execution_count": 3,
     "metadata": {},
     "output_type": "execute_result"
    }
   ],
   "source": [
    "df = pd.read_csv(\"Leads.csv\")\n",
    "df.head()"
   ]
  },
  {
   "cell_type": "code",
   "execution_count": 4,
   "metadata": {},
   "outputs": [
    {
     "data": {
      "text/html": [
       "<div>\n",
       "<style scoped>\n",
       "    .dataframe tbody tr th:only-of-type {\n",
       "        vertical-align: middle;\n",
       "    }\n",
       "\n",
       "    .dataframe tbody tr th {\n",
       "        vertical-align: top;\n",
       "    }\n",
       "\n",
       "    .dataframe thead th {\n",
       "        text-align: right;\n",
       "    }\n",
       "</style>\n",
       "<table border=\"1\" class=\"dataframe\">\n",
       "  <thead>\n",
       "    <tr style=\"text-align: right;\">\n",
       "      <th></th>\n",
       "      <th>Lead Number</th>\n",
       "      <th>Converted</th>\n",
       "      <th>TotalVisits</th>\n",
       "      <th>Total Time Spent on Website</th>\n",
       "      <th>Page Views Per Visit</th>\n",
       "      <th>Asymmetrique Activity Score</th>\n",
       "      <th>Asymmetrique Profile Score</th>\n",
       "    </tr>\n",
       "  </thead>\n",
       "  <tbody>\n",
       "    <tr>\n",
       "      <th>count</th>\n",
       "      <td>9240.000000</td>\n",
       "      <td>9240.000000</td>\n",
       "      <td>9103.000000</td>\n",
       "      <td>9240.000000</td>\n",
       "      <td>9103.000000</td>\n",
       "      <td>5022.000000</td>\n",
       "      <td>5022.000000</td>\n",
       "    </tr>\n",
       "    <tr>\n",
       "      <th>mean</th>\n",
       "      <td>617188.435606</td>\n",
       "      <td>0.385390</td>\n",
       "      <td>3.445238</td>\n",
       "      <td>487.698268</td>\n",
       "      <td>2.362820</td>\n",
       "      <td>14.306252</td>\n",
       "      <td>16.344883</td>\n",
       "    </tr>\n",
       "    <tr>\n",
       "      <th>std</th>\n",
       "      <td>23405.995698</td>\n",
       "      <td>0.486714</td>\n",
       "      <td>4.854853</td>\n",
       "      <td>548.021466</td>\n",
       "      <td>2.161418</td>\n",
       "      <td>1.386694</td>\n",
       "      <td>1.811395</td>\n",
       "    </tr>\n",
       "    <tr>\n",
       "      <th>min</th>\n",
       "      <td>579533.000000</td>\n",
       "      <td>0.000000</td>\n",
       "      <td>0.000000</td>\n",
       "      <td>0.000000</td>\n",
       "      <td>0.000000</td>\n",
       "      <td>7.000000</td>\n",
       "      <td>11.000000</td>\n",
       "    </tr>\n",
       "    <tr>\n",
       "      <th>25%</th>\n",
       "      <td>596484.500000</td>\n",
       "      <td>0.000000</td>\n",
       "      <td>1.000000</td>\n",
       "      <td>12.000000</td>\n",
       "      <td>1.000000</td>\n",
       "      <td>14.000000</td>\n",
       "      <td>15.000000</td>\n",
       "    </tr>\n",
       "    <tr>\n",
       "      <th>50%</th>\n",
       "      <td>615479.000000</td>\n",
       "      <td>0.000000</td>\n",
       "      <td>3.000000</td>\n",
       "      <td>248.000000</td>\n",
       "      <td>2.000000</td>\n",
       "      <td>14.000000</td>\n",
       "      <td>16.000000</td>\n",
       "    </tr>\n",
       "    <tr>\n",
       "      <th>75%</th>\n",
       "      <td>637387.250000</td>\n",
       "      <td>1.000000</td>\n",
       "      <td>5.000000</td>\n",
       "      <td>936.000000</td>\n",
       "      <td>3.000000</td>\n",
       "      <td>15.000000</td>\n",
       "      <td>18.000000</td>\n",
       "    </tr>\n",
       "    <tr>\n",
       "      <th>max</th>\n",
       "      <td>660737.000000</td>\n",
       "      <td>1.000000</td>\n",
       "      <td>251.000000</td>\n",
       "      <td>2272.000000</td>\n",
       "      <td>55.000000</td>\n",
       "      <td>18.000000</td>\n",
       "      <td>20.000000</td>\n",
       "    </tr>\n",
       "  </tbody>\n",
       "</table>\n",
       "</div>"
      ],
      "text/plain": [
       "         Lead Number    Converted  TotalVisits  Total Time Spent on Website  \\\n",
       "count    9240.000000  9240.000000  9103.000000                  9240.000000   \n",
       "mean   617188.435606     0.385390     3.445238                   487.698268   \n",
       "std     23405.995698     0.486714     4.854853                   548.021466   \n",
       "min    579533.000000     0.000000     0.000000                     0.000000   \n",
       "25%    596484.500000     0.000000     1.000000                    12.000000   \n",
       "50%    615479.000000     0.000000     3.000000                   248.000000   \n",
       "75%    637387.250000     1.000000     5.000000                   936.000000   \n",
       "max    660737.000000     1.000000   251.000000                  2272.000000   \n",
       "\n",
       "       Page Views Per Visit  Asymmetrique Activity Score  \\\n",
       "count           9103.000000                  5022.000000   \n",
       "mean               2.362820                    14.306252   \n",
       "std                2.161418                     1.386694   \n",
       "min                0.000000                     7.000000   \n",
       "25%                1.000000                    14.000000   \n",
       "50%                2.000000                    14.000000   \n",
       "75%                3.000000                    15.000000   \n",
       "max               55.000000                    18.000000   \n",
       "\n",
       "       Asymmetrique Profile Score  \n",
       "count                 5022.000000  \n",
       "mean                    16.344883  \n",
       "std                      1.811395  \n",
       "min                     11.000000  \n",
       "25%                     15.000000  \n",
       "50%                     16.000000  \n",
       "75%                     18.000000  \n",
       "max                     20.000000  "
      ]
     },
     "execution_count": 4,
     "metadata": {},
     "output_type": "execute_result"
    }
   ],
   "source": [
    "df.describe()"
   ]
  },
  {
   "cell_type": "code",
   "execution_count": 5,
   "metadata": {},
   "outputs": [
    {
     "name": "stdout",
     "output_type": "stream",
     "text": [
      "<class 'pandas.core.frame.DataFrame'>\n",
      "RangeIndex: 9240 entries, 0 to 9239\n",
      "Data columns (total 37 columns):\n",
      " #   Column                                         Non-Null Count  Dtype  \n",
      "---  ------                                         --------------  -----  \n",
      " 0   Prospect ID                                    9240 non-null   object \n",
      " 1   Lead Number                                    9240 non-null   int64  \n",
      " 2   Lead Origin                                    9240 non-null   object \n",
      " 3   Lead Source                                    9204 non-null   object \n",
      " 4   Do Not Email                                   9240 non-null   object \n",
      " 5   Do Not Call                                    9240 non-null   object \n",
      " 6   Converted                                      9240 non-null   int64  \n",
      " 7   TotalVisits                                    9103 non-null   float64\n",
      " 8   Total Time Spent on Website                    9240 non-null   int64  \n",
      " 9   Page Views Per Visit                           9103 non-null   float64\n",
      " 10  Last Activity                                  9137 non-null   object \n",
      " 11  Country                                        6779 non-null   object \n",
      " 12  Specialization                                 7802 non-null   object \n",
      " 13  How did you hear about X Education             7033 non-null   object \n",
      " 14  What is your current occupation                6550 non-null   object \n",
      " 15  What matters most to you in choosing a course  6531 non-null   object \n",
      " 16  Search                                         9240 non-null   object \n",
      " 17  Magazine                                       9240 non-null   object \n",
      " 18  Newspaper Article                              9240 non-null   object \n",
      " 19  X Education Forums                             9240 non-null   object \n",
      " 20  Newspaper                                      9240 non-null   object \n",
      " 21  Digital Advertisement                          9240 non-null   object \n",
      " 22  Through Recommendations                        9240 non-null   object \n",
      " 23  Receive More Updates About Our Courses         9240 non-null   object \n",
      " 24  Tags                                           5887 non-null   object \n",
      " 25  Lead Quality                                   4473 non-null   object \n",
      " 26  Update me on Supply Chain Content              9240 non-null   object \n",
      " 27  Get updates on DM Content                      9240 non-null   object \n",
      " 28  Lead Profile                                   6531 non-null   object \n",
      " 29  City                                           7820 non-null   object \n",
      " 30  Asymmetrique Activity Index                    5022 non-null   object \n",
      " 31  Asymmetrique Profile Index                     5022 non-null   object \n",
      " 32  Asymmetrique Activity Score                    5022 non-null   float64\n",
      " 33  Asymmetrique Profile Score                     5022 non-null   float64\n",
      " 34  I agree to pay the amount through cheque       9240 non-null   object \n",
      " 35  A free copy of Mastering The Interview         9240 non-null   object \n",
      " 36  Last Notable Activity                          9240 non-null   object \n",
      "dtypes: float64(4), int64(3), object(30)\n",
      "memory usage: 2.6+ MB\n"
     ]
    }
   ],
   "source": [
    "df.info()"
   ]
  },
  {
   "cell_type": "code",
   "execution_count": 6,
   "metadata": {
    "scrolled": true
   },
   "outputs": [
    {
     "data": {
      "text/plain": [
       "(9240, 37)"
      ]
     },
     "execution_count": 6,
     "metadata": {},
     "output_type": "execute_result"
    }
   ],
   "source": [
    "df.shape"
   ]
  },
  {
   "cell_type": "markdown",
   "metadata": {},
   "source": [
    "##### Rows before removing highly null valued rows"
   ]
  },
  {
   "cell_type": "code",
   "execution_count": 7,
   "metadata": {},
   "outputs": [
    {
     "data": {
      "text/plain": [
       "9240"
      ]
     },
     "execution_count": 7,
     "metadata": {},
     "output_type": "execute_result"
    }
   ],
   "source": [
    "rows_before = df.shape[0]\n",
    "rows_before"
   ]
  },
  {
   "cell_type": "markdown",
   "metadata": {},
   "source": [
    "#### Percentage of missing values of all features"
   ]
  },
  {
   "cell_type": "code",
   "execution_count": 8,
   "metadata": {
    "scrolled": false
   },
   "outputs": [
    {
     "data": {
      "text/plain": [
       "Prospect ID                                       0.00\n",
       "Lead Number                                       0.00\n",
       "Lead Origin                                       0.00\n",
       "Lead Source                                       0.39\n",
       "Do Not Email                                      0.00\n",
       "Do Not Call                                       0.00\n",
       "Converted                                         0.00\n",
       "TotalVisits                                       1.48\n",
       "Total Time Spent on Website                       0.00\n",
       "Page Views Per Visit                              1.48\n",
       "Last Activity                                     1.11\n",
       "Country                                          26.63\n",
       "Specialization                                   15.56\n",
       "How did you hear about X Education               23.89\n",
       "What is your current occupation                  29.11\n",
       "What matters most to you in choosing a course    29.32\n",
       "Search                                            0.00\n",
       "Magazine                                          0.00\n",
       "Newspaper Article                                 0.00\n",
       "X Education Forums                                0.00\n",
       "Newspaper                                         0.00\n",
       "Digital Advertisement                             0.00\n",
       "Through Recommendations                           0.00\n",
       "Receive More Updates About Our Courses            0.00\n",
       "Tags                                             36.29\n",
       "Lead Quality                                     51.59\n",
       "Update me on Supply Chain Content                 0.00\n",
       "Get updates on DM Content                         0.00\n",
       "Lead Profile                                     29.32\n",
       "City                                             15.37\n",
       "Asymmetrique Activity Index                      45.65\n",
       "Asymmetrique Profile Index                       45.65\n",
       "Asymmetrique Activity Score                      45.65\n",
       "Asymmetrique Profile Score                       45.65\n",
       "I agree to pay the amount through cheque          0.00\n",
       "A free copy of Mastering The Interview            0.00\n",
       "Last Notable Activity                             0.00\n",
       "dtype: float64"
      ]
     },
     "execution_count": 8,
     "metadata": {},
     "output_type": "execute_result"
    }
   ],
   "source": [
    "round((df.isnull().sum())/len(df)*100,2)"
   ]
  },
  {
   "cell_type": "markdown",
   "metadata": {},
   "source": [
    "#### Dropping columns with high missing value percentage"
   ]
  },
  {
   "cell_type": "code",
   "execution_count": 9,
   "metadata": {},
   "outputs": [
    {
     "data": {
      "text/html": [
       "<div>\n",
       "<style scoped>\n",
       "    .dataframe tbody tr th:only-of-type {\n",
       "        vertical-align: middle;\n",
       "    }\n",
       "\n",
       "    .dataframe tbody tr th {\n",
       "        vertical-align: top;\n",
       "    }\n",
       "\n",
       "    .dataframe thead th {\n",
       "        text-align: right;\n",
       "    }\n",
       "</style>\n",
       "<table border=\"1\" class=\"dataframe\">\n",
       "  <thead>\n",
       "    <tr style=\"text-align: right;\">\n",
       "      <th></th>\n",
       "      <th>Prospect ID</th>\n",
       "      <th>Lead Number</th>\n",
       "      <th>Lead Origin</th>\n",
       "      <th>Lead Source</th>\n",
       "      <th>Do Not Email</th>\n",
       "      <th>Do Not Call</th>\n",
       "      <th>Converted</th>\n",
       "      <th>TotalVisits</th>\n",
       "      <th>Total Time Spent on Website</th>\n",
       "      <th>Page Views Per Visit</th>\n",
       "      <th>...</th>\n",
       "      <th>Get updates on DM Content</th>\n",
       "      <th>Lead Profile</th>\n",
       "      <th>City</th>\n",
       "      <th>Asymmetrique Activity Index</th>\n",
       "      <th>Asymmetrique Profile Index</th>\n",
       "      <th>Asymmetrique Activity Score</th>\n",
       "      <th>Asymmetrique Profile Score</th>\n",
       "      <th>I agree to pay the amount through cheque</th>\n",
       "      <th>A free copy of Mastering The Interview</th>\n",
       "      <th>Last Notable Activity</th>\n",
       "    </tr>\n",
       "  </thead>\n",
       "  <tbody>\n",
       "    <tr>\n",
       "      <th>0</th>\n",
       "      <td>7927b2df-8bba-4d29-b9a2-b6e0beafe620</td>\n",
       "      <td>660737</td>\n",
       "      <td>API</td>\n",
       "      <td>Olark Chat</td>\n",
       "      <td>No</td>\n",
       "      <td>No</td>\n",
       "      <td>0</td>\n",
       "      <td>0.0</td>\n",
       "      <td>0</td>\n",
       "      <td>0.0</td>\n",
       "      <td>...</td>\n",
       "      <td>No</td>\n",
       "      <td>NaN</td>\n",
       "      <td>NaN</td>\n",
       "      <td>02.Medium</td>\n",
       "      <td>02.Medium</td>\n",
       "      <td>15.0</td>\n",
       "      <td>15.0</td>\n",
       "      <td>No</td>\n",
       "      <td>No</td>\n",
       "      <td>Modified</td>\n",
       "    </tr>\n",
       "    <tr>\n",
       "      <th>1</th>\n",
       "      <td>2a272436-5132-4136-86fa-dcc88c88f482</td>\n",
       "      <td>660728</td>\n",
       "      <td>API</td>\n",
       "      <td>Organic Search</td>\n",
       "      <td>No</td>\n",
       "      <td>No</td>\n",
       "      <td>0</td>\n",
       "      <td>5.0</td>\n",
       "      <td>674</td>\n",
       "      <td>2.5</td>\n",
       "      <td>...</td>\n",
       "      <td>No</td>\n",
       "      <td>NaN</td>\n",
       "      <td>NaN</td>\n",
       "      <td>02.Medium</td>\n",
       "      <td>02.Medium</td>\n",
       "      <td>15.0</td>\n",
       "      <td>15.0</td>\n",
       "      <td>No</td>\n",
       "      <td>No</td>\n",
       "      <td>Email Opened</td>\n",
       "    </tr>\n",
       "    <tr>\n",
       "      <th>2</th>\n",
       "      <td>8cc8c611-a219-4f35-ad23-fdfd2656bd8a</td>\n",
       "      <td>660727</td>\n",
       "      <td>Landing Page Submission</td>\n",
       "      <td>Direct Traffic</td>\n",
       "      <td>No</td>\n",
       "      <td>No</td>\n",
       "      <td>1</td>\n",
       "      <td>2.0</td>\n",
       "      <td>1532</td>\n",
       "      <td>2.0</td>\n",
       "      <td>...</td>\n",
       "      <td>No</td>\n",
       "      <td>Potential Lead</td>\n",
       "      <td>Mumbai</td>\n",
       "      <td>02.Medium</td>\n",
       "      <td>01.High</td>\n",
       "      <td>14.0</td>\n",
       "      <td>20.0</td>\n",
       "      <td>No</td>\n",
       "      <td>Yes</td>\n",
       "      <td>Email Opened</td>\n",
       "    </tr>\n",
       "    <tr>\n",
       "      <th>3</th>\n",
       "      <td>0cc2df48-7cf4-4e39-9de9-19797f9b38cc</td>\n",
       "      <td>660719</td>\n",
       "      <td>Landing Page Submission</td>\n",
       "      <td>Direct Traffic</td>\n",
       "      <td>No</td>\n",
       "      <td>No</td>\n",
       "      <td>0</td>\n",
       "      <td>1.0</td>\n",
       "      <td>305</td>\n",
       "      <td>1.0</td>\n",
       "      <td>...</td>\n",
       "      <td>No</td>\n",
       "      <td>NaN</td>\n",
       "      <td>Mumbai</td>\n",
       "      <td>02.Medium</td>\n",
       "      <td>01.High</td>\n",
       "      <td>13.0</td>\n",
       "      <td>17.0</td>\n",
       "      <td>No</td>\n",
       "      <td>No</td>\n",
       "      <td>Modified</td>\n",
       "    </tr>\n",
       "    <tr>\n",
       "      <th>4</th>\n",
       "      <td>3256f628-e534-4826-9d63-4a8b88782852</td>\n",
       "      <td>660681</td>\n",
       "      <td>Landing Page Submission</td>\n",
       "      <td>Google</td>\n",
       "      <td>No</td>\n",
       "      <td>No</td>\n",
       "      <td>1</td>\n",
       "      <td>2.0</td>\n",
       "      <td>1428</td>\n",
       "      <td>1.0</td>\n",
       "      <td>...</td>\n",
       "      <td>No</td>\n",
       "      <td>NaN</td>\n",
       "      <td>Mumbai</td>\n",
       "      <td>02.Medium</td>\n",
       "      <td>01.High</td>\n",
       "      <td>15.0</td>\n",
       "      <td>18.0</td>\n",
       "      <td>No</td>\n",
       "      <td>No</td>\n",
       "      <td>Modified</td>\n",
       "    </tr>\n",
       "  </tbody>\n",
       "</table>\n",
       "<p>5 rows × 37 columns</p>\n",
       "</div>"
      ],
      "text/plain": [
       "                            Prospect ID  Lead Number              Lead Origin  \\\n",
       "0  7927b2df-8bba-4d29-b9a2-b6e0beafe620       660737                      API   \n",
       "1  2a272436-5132-4136-86fa-dcc88c88f482       660728                      API   \n",
       "2  8cc8c611-a219-4f35-ad23-fdfd2656bd8a       660727  Landing Page Submission   \n",
       "3  0cc2df48-7cf4-4e39-9de9-19797f9b38cc       660719  Landing Page Submission   \n",
       "4  3256f628-e534-4826-9d63-4a8b88782852       660681  Landing Page Submission   \n",
       "\n",
       "      Lead Source Do Not Email Do Not Call  Converted  TotalVisits  \\\n",
       "0      Olark Chat           No          No          0          0.0   \n",
       "1  Organic Search           No          No          0          5.0   \n",
       "2  Direct Traffic           No          No          1          2.0   \n",
       "3  Direct Traffic           No          No          0          1.0   \n",
       "4          Google           No          No          1          2.0   \n",
       "\n",
       "   Total Time Spent on Website  Page Views Per Visit  ...  \\\n",
       "0                            0                   0.0  ...   \n",
       "1                          674                   2.5  ...   \n",
       "2                         1532                   2.0  ...   \n",
       "3                          305                   1.0  ...   \n",
       "4                         1428                   1.0  ...   \n",
       "\n",
       "  Get updates on DM Content    Lead Profile    City  \\\n",
       "0                        No             NaN     NaN   \n",
       "1                        No             NaN     NaN   \n",
       "2                        No  Potential Lead  Mumbai   \n",
       "3                        No             NaN  Mumbai   \n",
       "4                        No             NaN  Mumbai   \n",
       "\n",
       "  Asymmetrique Activity Index Asymmetrique Profile Index  \\\n",
       "0                   02.Medium                  02.Medium   \n",
       "1                   02.Medium                  02.Medium   \n",
       "2                   02.Medium                    01.High   \n",
       "3                   02.Medium                    01.High   \n",
       "4                   02.Medium                    01.High   \n",
       "\n",
       "  Asymmetrique Activity Score Asymmetrique Profile Score  \\\n",
       "0                        15.0                       15.0   \n",
       "1                        15.0                       15.0   \n",
       "2                        14.0                       20.0   \n",
       "3                        13.0                       17.0   \n",
       "4                        15.0                       18.0   \n",
       "\n",
       "  I agree to pay the amount through cheque  \\\n",
       "0                                       No   \n",
       "1                                       No   \n",
       "2                                       No   \n",
       "3                                       No   \n",
       "4                                       No   \n",
       "\n",
       "  A free copy of Mastering The Interview Last Notable Activity  \n",
       "0                                     No              Modified  \n",
       "1                                     No          Email Opened  \n",
       "2                                    Yes          Email Opened  \n",
       "3                                     No              Modified  \n",
       "4                                     No              Modified  \n",
       "\n",
       "[5 rows x 37 columns]"
      ]
     },
     "execution_count": 9,
     "metadata": {},
     "output_type": "execute_result"
    }
   ],
   "source": [
    "# Replacing 'select' with NaNs\n",
    "df = df.replace('Select',np.nan)\n",
    "df.head()"
   ]
  },
  {
   "cell_type": "code",
   "execution_count": 11,
   "metadata": {},
   "outputs": [],
   "source": [
    "df = df.drop(df.loc[:,list(round(100*(df.isnull().sum()/len(df.index)), 2)>70)].columns, 1)"
   ]
  },
  {
   "cell_type": "code",
   "execution_count": 13,
   "metadata": {},
   "outputs": [
    {
     "data": {
      "text/plain": [
       "Text(0.5, 1.0, 'Lead Quality')"
      ]
     },
     "execution_count": 13,
     "metadata": {},
     "output_type": "execute_result"
    },
    {
     "data": {
      "image/png": "[encoded data removed]",
      "text/plain": [
       "<Figure size 432x288 with 1 Axes>"
      ]
     },
     "metadata": {
      "needs_background": "light"
     },
     "output_type": "display_data"
    }
   ],
   "source": [
    "df['Lead Quality'].value_counts().plot.barh()\n",
    "plt.title(\"Lead Quality\")"
   ]
  },
  {
   "cell_type": "code",
   "execution_count": 14,
   "metadata": {},
   "outputs": [],
   "source": [
    "#Since Lead quality is based on the expereice in company, so if left blank we can impute 'Neutral' in NaN safely.\n",
    "df['Lead Quality'] = df['Lead Quality'].replace(np.nan, 'Neutral')"
   ]
  },
  {
   "cell_type": "code",
   "execution_count": 15,
   "metadata": {},
   "outputs": [
    {
     "data": {
      "text/plain": [
       "Text(0.5, 1.0, 'Lead Quality')"
      ]
     },
     "execution_count": 15,
     "metadata": {},
     "output_type": "execute_result"
    },
    {
     "data": {
      "image/png": "[encoded data removed]",
      "text/plain": [
       "<Figure size 432x288 with 1 Axes>"
      ]
     },
     "metadata": {
      "needs_background": "light"
     },
     "output_type": "display_data"
    }
   ],
   "source": [
    "df['Lead Quality'].value_counts().plot.barh()\n",
    "plt.title(\"Lead Quality\")"
   ]
  },
  {
   "cell_type": "code",
   "execution_count": 17,
   "metadata": {
    "scrolled": true
   },
   "outputs": [
    {
     "data": {
      "image/png": "[encoded data removed]",
      "text/plain": [
       "<Figure size 432x288 with 1 Axes>"
      ]
     },
     "metadata": {
      "needs_background": "light"
     },
     "output_type": "display_data"
    },
    {
     "data": {
      "image/png": "[encoded data removed]",
      "text/plain": [
       "<Figure size 432x288 with 1 Axes>"
      ]
     },
     "metadata": {
      "needs_background": "light"
     },
     "output_type": "display_data"
    },
    {
     "data": {
      "image/png": "[encoded data removed]",
      "text/plain": [
       "<Figure size 432x288 with 1 Axes>"
      ]
     },
     "metadata": {
      "needs_background": "light"
     },
     "output_type": "display_data"
    },
    {
     "data": {
      "image/png": "[encoded data removed]",
      "text/plain": [
       "<Figure size 432x288 with 1 Axes>"
      ]
     },
     "metadata": {
      "needs_background": "light"
     },
     "output_type": "display_data"
    },
    {
     "data": {
      "image/png": "[encoded data removed]",
      "text/plain": [
       "<Figure size 432x288 with 1 Axes>"
      ]
     },
     "metadata": {
      "needs_background": "light"
     },
     "output_type": "display_data"
    }
   ],
   "source": [
    "#### Removing the rows with more than 5 missing values\n",
    "\n",
    "df = df[df.isnull().sum(axis=1) < 6]\n",
    "df.shape\n",
    "\n",
    "rows_after = df.shape[0]\n",
    "rows_after\n",
    "\n",
    "##### Percentage of rows retained after removing the rows with more than 5 missing attribures\n",
    "\n",
    "print(\"Percentage of rows retained : \", end=\" \")\n",
    "(rows_after/rows_before)*100\n",
    "\n",
    "for i in ['Asymmetrique Profile Score','Asymmetrique Activity Score','Page Views Per Visit','Total Time Spent on Website','TotalVisits']:\n",
    "    sns.boxplot(df[i])\n",
    "    plt.show()"
   ]
  },
  {
   "cell_type": "markdown",
   "metadata": {},
   "source": [
    "### Replacing missing values of numerical features"
   ]
  },
  {
   "cell_type": "markdown",
   "metadata": {},
   "source": [
    "#### Used MeanMedianImputer from sklearn feature_engine for imputation\n",
    " - MeanMedianImputer class provides an option of saving mean, median values for the future reference of analysis\n",
    " - It returns a dataframe in return, hence we need to concatinate it with the origial dataframe before proceeding"
   ]
  },
  {
   "cell_type": "markdown",
   "metadata": {},
   "source": [
    "##### Replacing the missing values of features with outliers"
   ]
  },
  {
   "cell_type": "code",
   "execution_count": 82,
   "metadata": {},
   "outputs": [],
   "source": [
    "df1 = df[['Asymmetrique Activity Score', 'Page Views Per Visit', 'TotalVisits']]"
   ]
  },
  {
   "cell_type": "code",
   "execution_count": 83,
   "metadata": {},
   "outputs": [
    {
     "data": {
      "text/plain": [
       "Asymmetrique Activity Score    0.0\n",
       "Page Views Per Visit           0.0\n",
       "TotalVisits                    0.0\n",
       "dtype: float64"
      ]
     },
     "execution_count": 83,
     "metadata": {},
     "output_type": "execute_result"
    }
   ],
   "source": [
    "# Numerical features with outliers in them are [Asymmetric Activity Score, Page Views Per Visit, TotalVisits]\n",
    "# and hence replacing the null values in these features with respective median values\n",
    "from feature_engine.missing_data_imputers import MeanMedianImputer\n",
    "\n",
    "median_imputer = MeanMedianImputer(imputation_method='median',variables=['Asymmetrique Activity Score', 'Page Views Per Visit', 'TotalVisits'])\n",
    "median_imputer.fit(df1)\n",
    "df1 = median_imputer.transform(df1)\n",
    "round(df1.isnull().sum()/len(df1),2)"
   ]
  },
  {
   "cell_type": "code",
   "execution_count": 84,
   "metadata": {},
   "outputs": [
    {
     "data": {
      "text/html": [
       "<div>\n",
       "<style scoped>\n",
       "    .dataframe tbody tr th:only-of-type {\n",
       "        vertical-align: middle;\n",
       "    }\n",
       "\n",
       "    .dataframe tbody tr th {\n",
       "        vertical-align: top;\n",
       "    }\n",
       "\n",
       "    .dataframe thead th {\n",
       "        text-align: right;\n",
       "    }\n",
       "</style>\n",
       "<table border=\"1\" class=\"dataframe\">\n",
       "  <thead>\n",
       "    <tr style=\"text-align: right;\">\n",
       "      <th></th>\n",
       "      <th>Asymmetrique Activity Score</th>\n",
       "      <th>Page Views Per Visit</th>\n",
       "      <th>TotalVisits</th>\n",
       "    </tr>\n",
       "  </thead>\n",
       "  <tbody>\n",
       "    <tr>\n",
       "      <th>0</th>\n",
       "      <td>15.0</td>\n",
       "      <td>0.0</td>\n",
       "      <td>0.0</td>\n",
       "    </tr>\n",
       "    <tr>\n",
       "      <th>1</th>\n",
       "      <td>15.0</td>\n",
       "      <td>2.5</td>\n",
       "      <td>5.0</td>\n",
       "    </tr>\n",
       "    <tr>\n",
       "      <th>2</th>\n",
       "      <td>14.0</td>\n",
       "      <td>2.0</td>\n",
       "      <td>2.0</td>\n",
       "    </tr>\n",
       "    <tr>\n",
       "      <th>3</th>\n",
       "      <td>13.0</td>\n",
       "      <td>1.0</td>\n",
       "      <td>1.0</td>\n",
       "    </tr>\n",
       "    <tr>\n",
       "      <th>4</th>\n",
       "      <td>15.0</td>\n",
       "      <td>1.0</td>\n",
       "      <td>2.0</td>\n",
       "    </tr>\n",
       "  </tbody>\n",
       "</table>\n",
       "</div>"
      ],
      "text/plain": [
       "   Asymmetrique Activity Score  Page Views Per Visit  TotalVisits\n",
       "0                         15.0                   0.0          0.0\n",
       "1                         15.0                   2.5          5.0\n",
       "2                         14.0                   2.0          2.0\n",
       "3                         13.0                   1.0          1.0\n",
       "4                         15.0                   1.0          2.0"
      ]
     },
     "execution_count": 84,
     "metadata": {},
     "output_type": "execute_result"
    }
   ],
   "source": [
    "df1.head()"
   ]
  },
  {
   "cell_type": "code",
   "execution_count": 85,
   "metadata": {},
   "outputs": [
    {
     "data": {
      "text/plain": [
       "(5027, 33)"
      ]
     },
     "execution_count": 85,
     "metadata": {},
     "output_type": "execute_result"
    }
   ],
   "source": [
    "df = df.drop(['Asymmetrique Activity Score', 'Page Views Per Visit', 'TotalVisits'], axis=1)\n",
    "df.shape"
   ]
  },
  {
   "cell_type": "code",
   "execution_count": 86,
   "metadata": {},
   "outputs": [
    {
     "data": {
      "text/plain": [
       "(5027, 36)"
      ]
     },
     "execution_count": 86,
     "metadata": {},
     "output_type": "execute_result"
    }
   ],
   "source": [
    "# Concatinatin the df1 & df\n",
    "df = pd.concat([df, df1], axis=1)\n",
    "df.shape"
   ]
  },
  {
   "cell_type": "code",
   "execution_count": 87,
   "metadata": {},
   "outputs": [
    {
     "data": {
      "text/plain": [
       "(5027, 35)"
      ]
     },
     "execution_count": 87,
     "metadata": {},
     "output_type": "execute_result"
    }
   ],
   "source": [
    "df1 = df[['Asymmetrique Profile Score']]\n",
    "df = df.drop('Asymmetrique Profile Score', axis=1)\n",
    "df.shape"
   ]
  },
  {
   "cell_type": "markdown",
   "metadata": {},
   "source": [
    "##### Repacing the missing values in the featues with no outliers in them"
   ]
  },
  {
   "cell_type": "code",
   "execution_count": 88,
   "metadata": {},
   "outputs": [
    {
     "data": {
      "text/plain": [
       "Asymmetrique Profile Score    0.0\n",
       "dtype: float64"
      ]
     },
     "execution_count": 88,
     "metadata": {},
     "output_type": "execute_result"
    }
   ],
   "source": [
    "# Replacing the null values of the feature ['Asymmetrique Profile Score'] with MEAN since it doesn't contain any outliers\n",
    "mean_imputer = MeanMedianImputer(imputation_method='mean', variables=['Asymmetrique Profile Score'])\n",
    "mean_imputer.fit(df1)\n",
    "df1 = mean_imputer.transform(df1)\n",
    "round(df1.isnull().sum()/len(df1),2)"
   ]
  },
  {
   "cell_type": "code",
   "execution_count": 89,
   "metadata": {},
   "outputs": [
    {
     "data": {
      "text/plain": [
       "(5027, 36)"
      ]
     },
     "execution_count": 89,
     "metadata": {},
     "output_type": "execute_result"
    }
   ],
   "source": [
    "df = pd.concat([df, df1], axis=1)\n",
    "df.shape"
   ]
  },
  {
   "cell_type": "markdown",
   "metadata": {},
   "source": [
    "##### Replacing the missing values of the categorical (or) object features with the respective mode values"
   ]
  },
  {
   "cell_type": "code",
   "execution_count": 90,
   "metadata": {},
   "outputs": [],
   "source": [
    "# Categorical features with missing values in them\n",
    "cols = ['Lead Origin','Lead Source', 'Last Activity','Country','Specialization','How did you hear about X Education',\n",
    "'What is your current occupation','What matters most to you in choosing a course',\n",
    "'Tags','Lead Profile','City','Asymmetrique Activity Index','Asymmetrique Profile Index']"
   ]
  },
  {
   "cell_type": "code",
   "execution_count": 91,
   "metadata": {},
   "outputs": [],
   "source": [
    "for col in cols:\n",
    "    df[col].fillna(df[col].mode()[0], inplace = True)"
   ]
  },
  {
   "cell_type": "markdown",
   "metadata": {},
   "source": [
    "##### Re-checking the missing values in the dataframe & found no missing values presence"
   ]
  },
  {
   "cell_type": "code",
   "execution_count": 92,
   "metadata": {},
   "outputs": [
    {
     "data": {
      "text/plain": [
       "Prospect ID                                      0.0\n",
       "Lead Number                                      0.0\n",
       "Lead Origin                                      0.0\n",
       "Lead Source                                      0.0\n",
       "Do Not Email                                     0.0\n",
       "Do Not Call                                      0.0\n",
       "Converted                                        0.0\n",
       "Total Time Spent on Website                      0.0\n",
       "Last Activity                                    0.0\n",
       "Country                                          0.0\n",
       "Specialization                                   0.0\n",
       "How did you hear about X Education               0.0\n",
       "What is your current occupation                  0.0\n",
       "What matters most to you in choosing a course    0.0\n",
       "Search                                           0.0\n",
       "Magazine                                         0.0\n",
       "Newspaper Article                                0.0\n",
       "X Education Forums                               0.0\n",
       "Newspaper                                        0.0\n",
       "Digital Advertisement                            0.0\n",
       "Through Recommendations                          0.0\n",
       "Receive More Updates About Our Courses           0.0\n",
       "Tags                                             0.0\n",
       "Update me on Supply Chain Content                0.0\n",
       "Get updates on DM Content                        0.0\n",
       "Lead Profile                                     0.0\n",
       "City                                             0.0\n",
       "Asymmetrique Activity Index                      0.0\n",
       "Asymmetrique Profile Index                       0.0\n",
       "I agree to pay the amount through cheque         0.0\n",
       "A free copy of Mastering The Interview           0.0\n",
       "Last Notable Activity                            0.0\n",
       "Asymmetrique Activity Score                      0.0\n",
       "Page Views Per Visit                             0.0\n",
       "TotalVisits                                      0.0\n",
       "Asymmetrique Profile Score                       0.0\n",
       "dtype: float64"
      ]
     },
     "execution_count": 92,
     "metadata": {},
     "output_type": "execute_result"
    }
   ],
   "source": [
    "round(df.isnull().sum()/len(df)*100,2)"
   ]
  },
  {
   "cell_type": "code",
   "execution_count": 93,
   "metadata": {},
   "outputs": [
    {
     "name": "stdout",
     "output_type": "stream",
     "text": [
      "Feature Name:  Lead Origin\n",
      "Landing Page Submission    68.629401\n",
      "API                        25.084543\n",
      "Lead Add Form               5.709170\n",
      "Lead Import                 0.576885\n",
      "Name: Lead Origin, dtype: float64\n",
      "********************************\n",
      "Feature Name:  Lead Source\n",
      "Google               39.367416\n",
      "Direct Traffic       31.470062\n",
      "Organic Search       13.268351\n",
      "Olark Chat            7.897354\n",
      "Reference             4.853790\n",
      "Referral Sites        1.571514\n",
      "Welingak Website      0.656455\n",
      "Facebook              0.576885\n",
      "google                0.079570\n",
      "Press_Release         0.039785\n",
      "Live Chat             0.039785\n",
      "Click2call            0.039785\n",
      "Social Media          0.039785\n",
      "testone               0.019893\n",
      "bing                  0.019893\n",
      "NC_EDM                0.019893\n",
      "WeLearn               0.019893\n",
      "Pay per Click Ads     0.019893\n",
      "Name: Lead Source, dtype: float64\n",
      "********************************\n",
      "Feature Name:  Last Activity\n",
      "Email Opened                    41.734633\n",
      "SMS Sent                        29.182415\n",
      "Page Visited on Website          7.638751\n",
      "Olark Chat Conversation          5.669385\n",
      "Converted to Lead                4.754327\n",
      "Email Bounced                    3.043565\n",
      "Email Link Clicked               2.784961\n",
      "Form Submitted on Website        2.029043\n",
      "Unreachable                      1.591406\n",
      "Unsubscribed                     0.795703\n",
      "Had a Phone Conversation         0.556992\n",
      "View in browser link Clicked     0.059678\n",
      "Approached upfront               0.059678\n",
      "Email Received                   0.039785\n",
      "Email Marked Spam                0.039785\n",
      "Visited Booth in Tradeshow       0.019893\n",
      "Name: Last Activity, dtype: float64\n",
      "********************************\n",
      "Feature Name:  Country\n",
      "India                   96.498906\n",
      "United States            0.815596\n",
      "United Arab Emirates     0.656455\n",
      "Singapore                0.318281\n",
      "Saudi Arabia             0.218818\n",
      "Australia                0.179033\n",
      "United Kingdom           0.159141\n",
      "Bahrain                  0.119355\n",
      "Hong Kong                0.119355\n",
      "France                   0.099463\n",
      "Qatar                    0.099463\n",
      "Kuwait                   0.079570\n",
      "Oman                     0.079570\n",
      "Canada                   0.059678\n",
      "Germany                  0.039785\n",
      "South Africa             0.039785\n",
      "China                    0.039785\n",
      "Philippines              0.039785\n",
      "Bangladesh               0.039785\n",
      "Nigeria                  0.039785\n",
      "Sweden                   0.039785\n",
      "Indonesia                0.019893\n",
      "Vietnam                  0.019893\n",
      "Netherlands              0.019893\n",
      "Denmark                  0.019893\n",
      "Switzerland              0.019893\n",
      "Malaysia                 0.019893\n",
      "Sri Lanka                0.019893\n",
      "Belgium                  0.019893\n",
      "Russia                   0.019893\n",
      "Ghana                    0.019893\n",
      "Italy                    0.019893\n",
      "Name: Country, dtype: float64\n",
      "********************************\n",
      "Feature Name:  Specialization\n",
      "Finance Management                   31.947484\n",
      "Human Resource Management            11.875870\n",
      "Marketing Management                 11.279093\n",
      "Operations Management                 6.942510\n",
      "Business Administration               5.629600\n",
      "IT Projects Management                5.291426\n",
      "Supply Chain Management               5.172071\n",
      "Banking, Investment And Insurance     4.953252\n",
      "Travel and Tourism                    2.765069\n",
      "Media and Advertising                 2.705391\n",
      "International Business                2.407002\n",
      "Healthcare Management                 2.068828\n",
      "Hospitality Management                1.611299\n",
      "E-COMMERCE                            1.551621\n",
      "Retail Management                     1.372588\n",
      "Rural and Agribusiness                1.014522\n",
      "E-Business                            0.795703\n",
      "Services Excellence                   0.616670\n",
      "Name: Specialization, dtype: float64\n",
      "********************************\n",
      "Feature Name:  How did you hear about X Education\n",
      "Online Search            79.689676\n",
      "Word Of Mouth             5.868311\n",
      "Student of SomeSchool     5.430674\n",
      "Other                     3.341953\n",
      "Multiple Sources          2.586035\n",
      "Social Media              1.153770\n",
      "Advertisements            1.113984\n",
      "Email                     0.457529\n",
      "SMS                       0.358066\n",
      "Name: How did you hear about X Education, dtype: float64\n",
      "********************************\n",
      "Feature Name:  What is your current occupation\n",
      "Unemployed              87.129501\n",
      "Working Professional     9.866720\n",
      "Student                  2.506465\n",
      "Other                    0.238711\n",
      "Businessman              0.139248\n",
      "Housewife                0.119355\n",
      "Name: What is your current occupation, dtype: float64\n",
      "********************************\n",
      "Feature Name:  What matters most to you in choosing a course\n",
      "Better Career Prospects      99.960215\n",
      "Flexibility & Convenience     0.019893\n",
      "Other                         0.019893\n",
      "Name: What matters most to you in choosing a course, dtype: float64\n",
      "********************************\n",
      "Feature Name:  Tags\n",
      "Will revert after reading the email                  47.841655\n",
      "Ringing                                              15.914064\n",
      "Interested in other courses                           7.519395\n",
      "Already a student                                     6.107022\n",
      "Closed by Horizzon                                    4.754327\n",
      "switched off                                          3.123135\n",
      "Busy                                                  2.685498\n",
      "Lost to EINS                                          2.367217\n",
      "Not doing further education                           2.108613\n",
      "Interested  in full time MBA                          1.889795\n",
      "Graduation in progress                                1.651084\n",
      "Diploma holder (Not Eligible)                         0.895166\n",
      "invalid number                                        0.895166\n",
      "wrong number given                                    0.636563\n",
      "opp hangup                                            0.477422\n",
      "number not provided                                   0.298389\n",
      "in touch with EINS                                    0.198926\n",
      "Lost to Others                                        0.119355\n",
      "Still Thinking                                        0.119355\n",
      "In confusion whether part time or DLP                 0.099463\n",
      "Interested in Next batch                              0.079570\n",
      "Want to take admission but has financial problems     0.079570\n",
      "Lateral student                                       0.039785\n",
      "University not recognized                             0.039785\n",
      "Shall take in the next coming month                   0.039785\n",
      "Recognition issue (DEC approval)                      0.019893\n",
      "Name: Tags, dtype: float64\n",
      "********************************\n",
      "Feature Name:  Lead Profile\n",
      "Potential Lead                 87.905311\n",
      "Other Leads                     8.036602\n",
      "Student of SomeSchool           3.262383\n",
      "Lateral Student                 0.417744\n",
      "Dual Specialization Student     0.377959\n",
      "Name: Lead Profile, dtype: float64\n",
      "********************************\n",
      "Feature Name:  City\n",
      "Mumbai                         67.177243\n",
      "Thane & Outskirts              11.298985\n",
      "Other Cities                    9.568331\n",
      "Other Cities of Maharashtra     6.186592\n",
      "Other Metro Cities              4.833897\n",
      "Tier II Cities                  0.934951\n",
      "Name: City, dtype: float64\n",
      "********************************\n",
      "Feature Name:  Asymmetrique Activity Index\n",
      "02.Medium    85.597772\n",
      "01.High       8.116173\n",
      "03.Low        6.286055\n",
      "Name: Asymmetrique Activity Index, dtype: float64\n",
      "********************************\n",
      "Feature Name:  Asymmetrique Profile Index\n",
      "01.High      62.403024\n",
      "02.Medium    36.980306\n",
      "03.Low        0.616670\n",
      "Name: Asymmetrique Profile Index, dtype: float64\n",
      "********************************\n"
     ]
    }
   ],
   "source": [
    "for i in cols:\n",
    "    print(\"Feature Name: \",i)\n",
    "    print(df[i].value_counts()/len(df)*100)\n",
    "    print(\"********************************\")"
   ]
  },
  {
   "cell_type": "markdown",
   "metadata": {},
   "source": [
    "##### Features such as Country, How did you hear about X Education, What is your current occupation, What matters most to you in choosing a course, Lead Profile, Asymmetrique Activity Index are highly skewed\n",
    "- Hence dropping these is features is highly required"
   ]
  },
  {
   "cell_type": "code",
   "execution_count": 94,
   "metadata": {},
   "outputs": [
    {
     "data": {
      "text/plain": [
       "(5027, 30)"
      ]
     },
     "execution_count": 94,
     "metadata": {},
     "output_type": "execute_result"
    }
   ],
   "source": [
    "# Dropping the above mentioned features to remove the skewed data in DataFrame\n",
    "df= df.drop(['Country', 'How did you hear about X Education','What is your current occupation',\n",
    "             'What matters most to you in choosing a course','Lead Profile','Asymmetrique Activity Index'],\n",
    "           axis = 1)\n",
    "df.shape"
   ]
  },
  {
   "cell_type": "markdown",
   "metadata": {},
   "source": [
    "#### Checking Cardinalities of the features"
   ]
  },
  {
   "cell_type": "code",
   "execution_count": 95,
   "metadata": {},
   "outputs": [
    {
     "name": "stdout",
     "output_type": "stream",
     "text": [
      "Feature Name:  Prospect ID\n",
      "d450836a-cb34-48b7-bad7-9acb7da45843    0.019893\n",
      "2f18dbbc-f863-43dc-a99e-ea1267e54fce    0.019893\n",
      "8011d481-08bb-4f4f-a7dd-be98528caee2    0.019893\n",
      "a303766c-f688-4908-bda8-5fc6d8a35bb8    0.019893\n",
      "2a6f77a8-e6fc-417b-b388-7834a6303fac    0.019893\n",
      "                                          ...   \n",
      "88e5e9ea-c616-4229-ab42-537fe349f9cf    0.019893\n",
      "cd6943e3-a99c-4fa4-96a6-95c054f569eb    0.019893\n",
      "884b7c34-d951-497f-b9e6-de959d08d000    0.019893\n",
      "ccf537d1-d20f-4499-bf23-9b6de4edcb89    0.019893\n",
      "72027c75-b219-4df1-894a-777986040e47    0.019893\n",
      "Name: Prospect ID, Length: 5027, dtype: float64\n",
      "********************************\n",
      "Feature Name:  Lead Number\n",
      "651262    0.019893\n",
      "647861    0.019893\n",
      "581511    0.019893\n",
      "643053    0.019893\n",
      "653998    0.019893\n",
      "            ...   \n",
      "650591    0.019893\n",
      "583730    0.019893\n",
      "590119    0.019893\n",
      "591202    0.019893\n",
      "655360    0.019893\n",
      "Name: Lead Number, Length: 5027, dtype: float64\n",
      "********************************\n",
      "Feature Name:  Lead Origin\n",
      "Landing Page Submission    68.629401\n",
      "API                        25.084543\n",
      "Lead Add Form               5.709170\n",
      "Lead Import                 0.576885\n",
      "Name: Lead Origin, dtype: float64\n",
      "********************************\n",
      "Feature Name:  Lead Source\n",
      "Google               39.367416\n",
      "Direct Traffic       31.470062\n",
      "Organic Search       13.268351\n",
      "Olark Chat            7.897354\n",
      "Reference             4.853790\n",
      "Referral Sites        1.571514\n",
      "Welingak Website      0.656455\n",
      "Facebook              0.576885\n",
      "google                0.079570\n",
      "Press_Release         0.039785\n",
      "Live Chat             0.039785\n",
      "Click2call            0.039785\n",
      "Social Media          0.039785\n",
      "testone               0.019893\n",
      "bing                  0.019893\n",
      "NC_EDM                0.019893\n",
      "WeLearn               0.019893\n",
      "Pay per Click Ads     0.019893\n",
      "Name: Lead Source, dtype: float64\n",
      "********************************\n",
      "Feature Name:  Do Not Email\n",
      "No     92.798886\n",
      "Yes     7.201114\n",
      "Name: Do Not Email, dtype: float64\n",
      "********************************\n",
      "Feature Name:  Do Not Call\n",
      "No     99.960215\n",
      "Yes     0.039785\n",
      "Name: Do Not Call, dtype: float64\n",
      "********************************\n",
      "Feature Name:  Converted\n",
      "0    55.878257\n",
      "1    44.121743\n",
      "Name: Converted, dtype: float64\n",
      "********************************\n",
      "Feature Name:  Total Time Spent on Website\n",
      "0      11.438234\n",
      "87      0.278496\n",
      "60      0.258604\n",
      "68      0.238711\n",
      "239     0.238711\n",
      "         ...    \n",
      "809     0.019893\n",
      "805     0.019893\n",
      "797     0.019893\n",
      "793     0.019893\n",
      "849     0.019893\n",
      "Name: Total Time Spent on Website, Length: 1554, dtype: float64\n",
      "********************************\n",
      "Feature Name:  Last Activity\n",
      "Email Opened                    41.734633\n",
      "SMS Sent                        29.182415\n",
      "Page Visited on Website          7.638751\n",
      "Olark Chat Conversation          5.669385\n",
      "Converted to Lead                4.754327\n",
      "Email Bounced                    3.043565\n",
      "Email Link Clicked               2.784961\n",
      "Form Submitted on Website        2.029043\n",
      "Unreachable                      1.591406\n",
      "Unsubscribed                     0.795703\n",
      "Had a Phone Conversation         0.556992\n",
      "View in browser link Clicked     0.059678\n",
      "Approached upfront               0.059678\n",
      "Email Received                   0.039785\n",
      "Email Marked Spam                0.039785\n",
      "Visited Booth in Tradeshow       0.019893\n",
      "Name: Last Activity, dtype: float64\n",
      "********************************\n",
      "Feature Name:  Specialization\n",
      "Finance Management                   31.947484\n",
      "Human Resource Management            11.875870\n",
      "Marketing Management                 11.279093\n",
      "Operations Management                 6.942510\n",
      "Business Administration               5.629600\n",
      "IT Projects Management                5.291426\n",
      "Supply Chain Management               5.172071\n",
      "Banking, Investment And Insurance     4.953252\n",
      "Travel and Tourism                    2.765069\n",
      "Media and Advertising                 2.705391\n",
      "International Business                2.407002\n",
      "Healthcare Management                 2.068828\n",
      "Hospitality Management                1.611299\n",
      "E-COMMERCE                            1.551621\n",
      "Retail Management                     1.372588\n",
      "Rural and Agribusiness                1.014522\n",
      "E-Business                            0.795703\n",
      "Services Excellence                   0.616670\n",
      "Name: Specialization, dtype: float64\n",
      "********************************\n",
      "Feature Name:  Search\n",
      "No     99.860752\n",
      "Yes     0.139248\n",
      "Name: Search, dtype: float64\n",
      "********************************\n",
      "Feature Name:  Magazine\n",
      "No    100.0\n",
      "Name: Magazine, dtype: float64\n",
      "********************************\n",
      "Feature Name:  Newspaper Article\n",
      "No     99.980107\n",
      "Yes     0.019893\n",
      "Name: Newspaper Article, dtype: float64\n",
      "********************************\n",
      "Feature Name:  X Education Forums\n",
      "No    100.0\n",
      "Name: X Education Forums, dtype: float64\n",
      "********************************\n",
      "Feature Name:  Newspaper\n",
      "No    100.0\n",
      "Name: Newspaper, dtype: float64\n",
      "********************************\n",
      "Feature Name:  Digital Advertisement\n",
      "No     99.960215\n",
      "Yes     0.039785\n",
      "Name: Digital Advertisement, dtype: float64\n",
      "********************************\n",
      "Feature Name:  Through Recommendations\n",
      "No     99.92043\n",
      "Yes     0.07957\n",
      "Name: Through Recommendations, dtype: float64\n",
      "********************************\n",
      "Feature Name:  Receive More Updates About Our Courses\n",
      "No    100.0\n",
      "Name: Receive More Updates About Our Courses, dtype: float64\n",
      "********************************\n",
      "Feature Name:  Tags\n",
      "Will revert after reading the email                  47.841655\n",
      "Ringing                                              15.914064\n",
      "Interested in other courses                           7.519395\n",
      "Already a student                                     6.107022\n",
      "Closed by Horizzon                                    4.754327\n",
      "switched off                                          3.123135\n",
      "Busy                                                  2.685498\n",
      "Lost to EINS                                          2.367217\n",
      "Not doing further education                           2.108613\n",
      "Interested  in full time MBA                          1.889795\n",
      "Graduation in progress                                1.651084\n",
      "Diploma holder (Not Eligible)                         0.895166\n",
      "invalid number                                        0.895166\n",
      "wrong number given                                    0.636563\n",
      "opp hangup                                            0.477422\n",
      "number not provided                                   0.298389\n",
      "in touch with EINS                                    0.198926\n",
      "Lost to Others                                        0.119355\n",
      "Still Thinking                                        0.119355\n",
      "In confusion whether part time or DLP                 0.099463\n",
      "Interested in Next batch                              0.079570\n",
      "Want to take admission but has financial problems     0.079570\n",
      "Lateral student                                       0.039785\n",
      "University not recognized                             0.039785\n",
      "Shall take in the next coming month                   0.039785\n",
      "Recognition issue (DEC approval)                      0.019893\n",
      "Name: Tags, dtype: float64\n",
      "********************************\n",
      "Feature Name:  Update me on Supply Chain Content\n",
      "No    100.0\n",
      "Name: Update me on Supply Chain Content, dtype: float64\n",
      "********************************\n",
      "Feature Name:  Get updates on DM Content\n",
      "No    100.0\n",
      "Name: Get updates on DM Content, dtype: float64\n",
      "********************************\n",
      "Feature Name:  City\n",
      "Mumbai                         67.177243\n",
      "Thane & Outskirts              11.298985\n",
      "Other Cities                    9.568331\n",
      "Other Cities of Maharashtra     6.186592\n",
      "Other Metro Cities              4.833897\n",
      "Tier II Cities                  0.934951\n",
      "Name: City, dtype: float64\n",
      "********************************\n",
      "Feature Name:  Asymmetrique Profile Index\n",
      "01.High      62.403024\n",
      "02.Medium    36.980306\n",
      "03.Low        0.616670\n",
      "Name: Asymmetrique Profile Index, dtype: float64\n",
      "********************************\n",
      "Feature Name:  I agree to pay the amount through cheque\n",
      "No    100.0\n",
      "Name: I agree to pay the amount through cheque, dtype: float64\n",
      "********************************\n",
      "Feature Name:  A free copy of Mastering The Interview\n",
      "No     62.880446\n",
      "Yes    37.119554\n",
      "Name: A free copy of Mastering The Interview, dtype: float64\n",
      "********************************\n",
      "Feature Name:  Last Notable Activity\n",
      "Modified                    36.741595\n",
      "Email Opened                33.499105\n",
      "SMS Sent                    21.682912\n",
      "Page Visited on Website      3.580664\n",
      "Email Link Clicked           1.571514\n",
      "Olark Chat Conversation      0.954844\n",
      "Unsubscribed                 0.596777\n",
      "Email Bounced                0.556992\n",
      "Unreachable                  0.457529\n",
      "Had a Phone Conversation     0.278496\n",
      "Email Marked Spam            0.039785\n",
      "Email Received               0.019893\n",
      "Approached upfront           0.019893\n",
      "Name: Last Notable Activity, dtype: float64\n",
      "********************************\n",
      "Feature Name:  Asymmetrique Activity Score\n",
      "14.0    50.089517\n",
      "15.0    21.881838\n",
      "13.0    13.626417\n",
      "16.0     6.365626\n",
      "12.0     3.302168\n",
      "17.0     1.670977\n",
      "11.0     1.651084\n",
      "10.0     1.074199\n",
      "9.0      0.179033\n",
      "18.0     0.079570\n",
      "8.0      0.059678\n",
      "7.0      0.019893\n",
      "Name: Asymmetrique Activity Score, dtype: float64\n",
      "********************************\n",
      "Feature Name:  Page Views Per Visit\n",
      "2.00     21.901731\n",
      "3.00     15.695246\n",
      "4.00     12.532325\n",
      "0.00     11.378556\n",
      "5.00      7.280684\n",
      "           ...    \n",
      "7.50      0.019893\n",
      "16.00     0.019893\n",
      "1.86      0.019893\n",
      "1.20      0.019893\n",
      "3.80      0.019893\n",
      "Name: Page Views Per Visit, Length: 100, dtype: float64\n",
      "********************************\n",
      "Feature Name:  TotalVisits\n",
      "2.0      19.534514\n",
      "3.0      16.331808\n",
      "4.0      15.118361\n",
      "0.0      11.378556\n",
      "5.0      10.861349\n",
      "6.0       6.385518\n",
      "7.0       4.237120\n",
      "1.0       4.157549\n",
      "8.0       3.143028\n",
      "9.0       2.287647\n",
      "10.0      1.472051\n",
      "11.0      1.273125\n",
      "13.0      0.755918\n",
      "12.0      0.676348\n",
      "14.0      0.517207\n",
      "15.0      0.278496\n",
      "17.0      0.238711\n",
      "16.0      0.218818\n",
      "18.0      0.198926\n",
      "20.0      0.159141\n",
      "19.0      0.099463\n",
      "27.0      0.099463\n",
      "21.0      0.099463\n",
      "23.0      0.079570\n",
      "24.0      0.079570\n",
      "22.0      0.059678\n",
      "25.0      0.059678\n",
      "28.0      0.039785\n",
      "29.0      0.039785\n",
      "141.0     0.019893\n",
      "55.0      0.019893\n",
      "42.0      0.019893\n",
      "26.0      0.019893\n",
      "30.0      0.019893\n",
      "43.0      0.019893\n",
      "Name: TotalVisits, dtype: float64\n",
      "********************************\n",
      "Feature Name:  Asymmetrique Profile Score\n",
      "18.000000    21.245276\n",
      "16.661972    19.494728\n",
      "15.000000    17.863537\n",
      "16.000000    11.637159\n",
      "17.000000    10.841456\n",
      "20.000000     6.126915\n",
      "19.000000     4.694649\n",
      "14.000000     4.316690\n",
      "13.000000     3.162920\n",
      "12.000000     0.437637\n",
      "11.000000     0.179033\n",
      "Name: Asymmetrique Profile Score, dtype: float64\n",
      "********************************\n"
     ]
    }
   ],
   "source": [
    "for i in df.columns:\n",
    "    print(\"Feature Name: \",i)\n",
    "    print(df[i].value_counts()/len(df)*100)\n",
    "    print(\"********************************\")"
   ]
  },
  {
   "cell_type": "code",
   "execution_count": 96,
   "metadata": {},
   "outputs": [],
   "source": [
    "# Cells to create dummies\n",
    "cols = ['Lead Origin','Lead Source','Last Activity','Specialization','Tags','City',\n",
    "        'Asymmetrique Profile Index','Last Notable Activity',]"
   ]
  },
  {
   "cell_type": "code",
   "execution_count": 97,
   "metadata": {},
   "outputs": [
    {
     "data": {
      "text/plain": [
       "['Do Not Email',\n",
       " 'Do Not Call',\n",
       " 'Search',\n",
       " 'Magazine',\n",
       " 'Newspaper Article',\n",
       " 'X Education Forums',\n",
       " 'Newspaper',\n",
       " 'Digital Advertisement',\n",
       " 'Through Recommendations',\n",
       " 'Receive More Updates About Our Courses',\n",
       " 'Update me on Supply Chain Content',\n",
       " 'Get updates on DM Content',\n",
       " 'I agree to pay the amount through cheque',\n",
       " 'A free copy of Mastering The Interview']"
      ]
     },
     "execution_count": 97,
     "metadata": {},
     "output_type": "execute_result"
    }
   ],
   "source": [
    "# Remove this line\n",
    "['Do Not Email','Do Not Call','Search','Magazine','Newspaper Article','X Education Forums','Newspaper',\n",
    "'Digital Advertisement','Through Recommendations','Receive More Updates About Our Courses','Update me on Supply Chain Content',\n",
    "'Get updates on DM Content','I agree to pay the amount through cheque','A free copy of Mastering The Interview',\n",
    "]"
   ]
  },
  {
   "cell_type": "code",
   "execution_count": 98,
   "metadata": {},
   "outputs": [],
   "source": [
    "prospect_id = df['Prospect ID']\n",
    "lead_number = df['Lead Number']"
   ]
  },
  {
   "cell_type": "code",
   "execution_count": 99,
   "metadata": {},
   "outputs": [
    {
     "data": {
      "text/plain": [
       "(5027, 28)"
      ]
     },
     "execution_count": 99,
     "metadata": {},
     "output_type": "execute_result"
    }
   ],
   "source": [
    "df = df.drop(['Prospect ID','Lead Number'], axis=1)\n",
    "df.shape"
   ]
  },
  {
   "cell_type": "code",
   "execution_count": 100,
   "metadata": {},
   "outputs": [
    {
     "data": {
      "text/plain": [
       "Text(0.5, 1.0, 'Lead Source')"
      ]
     },
     "execution_count": 100,
     "metadata": {},
     "output_type": "execute_result"
    },
    {
     "data": {
      "image/png": "[encoded data removed]",
      "text/plain": [
       "<Figure size 864x576 with 1 Axes>"
      ]
     },
     "metadata": {
      "needs_background": "light"
     },
     "output_type": "display_data"
    }
   ],
   "source": [
    "# Analysing the feature Lead Source\n",
    "df['Lead Source'].value_counts().plot.barh(figsize=(12,8))\n",
    "plt.ylabel(\"count\")\n",
    "plt.xlabel(\"Source\")\n",
    "plt.title(\"Lead Source\")"
   ]
  },
  {
   "cell_type": "markdown",
   "metadata": {},
   "source": [
    "##### Seems the feature Lead Source have the attribute Google & google repeated twice and we shall replace them with either \"Google\" or \"google\""
   ]
  },
  {
   "cell_type": "code",
   "execution_count": 101,
   "metadata": {},
   "outputs": [
    {
     "data": {
      "text/plain": [
       "Text(0.5, 1.0, 'Lead Source')"
      ]
     },
     "execution_count": 101,
     "metadata": {},
     "output_type": "execute_result"
    },
    {
     "data": {
      "image/png": "[encoded data removed]",
      "text/plain": [
       "<Figure size 864x576 with 1 Axes>"
      ]
     },
     "metadata": {
      "needs_background": "light"
     },
     "output_type": "display_data"
    }
   ],
   "source": [
    "df['Lead Source'].replace(\"google\",\"Google\", inplace= True)\n",
    "df['Lead Source'].value_counts().plot.barh(figsize=(12,8))\n",
    "plt.xlabel(\"Source\")\n",
    "plt.ylabel(\"Count\")\n",
    "plt.title(\"Lead Source\")"
   ]
  },
  {
   "cell_type": "code",
   "execution_count": 102,
   "metadata": {},
   "outputs": [
    {
     "data": {
      "text/plain": [
       "Text(0.5, 1.0, 'Lead Origin')"
      ]
     },
     "execution_count": 102,
     "metadata": {},
     "output_type": "execute_result"
    },
    {
     "data": {
      "image/png": "[encoded data removed]",
      "text/plain": [
       "<Figure size 432x288 with 1 Axes>"
      ]
     },
     "metadata": {
      "needs_background": "light"
     },
     "output_type": "display_data"
    }
   ],
   "source": [
    "df['Lead Origin'].value_counts().plot.barh()\n",
    "plt.xlabel(\"Count\")\n",
    "plt.ylabel(\"Origin\")\n",
    "plt.title(\"Lead Origin\")"
   ]
  },
  {
   "cell_type": "code",
   "execution_count": 103,
   "metadata": {},
   "outputs": [
    {
     "data": {
      "text/plain": [
       "Mumbai                         3377\n",
       "Thane & Outskirts               568\n",
       "Other Cities                    481\n",
       "Other Cities of Maharashtra     311\n",
       "Other Metro Cities              243\n",
       "Tier II Cities                   47\n",
       "Name: City, dtype: int64"
      ]
     },
     "execution_count": 103,
     "metadata": {},
     "output_type": "execute_result"
    }
   ],
   "source": [
    "df['City'].value_counts()"
   ]
  },
  {
   "cell_type": "code",
   "execution_count": 104,
   "metadata": {},
   "outputs": [
    {
     "data": {
      "text/plain": [
       "<matplotlib.axes._subplots.AxesSubplot at 0x1c9c6e2a198>"
      ]
     },
     "execution_count": 104,
     "metadata": {},
     "output_type": "execute_result"
    },
    {
     "data": {
      "image/png": "[encoded data removed]",
      "text/plain": [
       "<Figure size 432x288 with 1 Axes>"
      ]
     },
     "metadata": {
      "needs_background": "light"
     },
     "output_type": "display_data"
    }
   ],
   "source": [
    "df['City'].value_counts().plot.barh()"
   ]
  },
  {
   "cell_type": "markdown",
   "metadata": {},
   "source": [
    "#### Since the pairplot does not show any relations in data, we shall use the corelation matrix to check the corelation values"
   ]
  },
  {
   "cell_type": "code",
   "execution_count": 105,
   "metadata": {
    "scrolled": true
   },
   "outputs": [
    {
     "data": {
      "text/html": [
       "<div>\n",
       "<style scoped>\n",
       "    .dataframe tbody tr th:only-of-type {\n",
       "        vertical-align: middle;\n",
       "    }\n",
       "\n",
       "    .dataframe tbody tr th {\n",
       "        vertical-align: top;\n",
       "    }\n",
       "\n",
       "    .dataframe thead th {\n",
       "        text-align: right;\n",
       "    }\n",
       "</style>\n",
       "<table border=\"1\" class=\"dataframe\">\n",
       "  <thead>\n",
       "    <tr style=\"text-align: right;\">\n",
       "      <th></th>\n",
       "      <th>Converted</th>\n",
       "      <th>Total Time Spent on Website</th>\n",
       "      <th>Asymmetrique Activity Score</th>\n",
       "      <th>Page Views Per Visit</th>\n",
       "      <th>TotalVisits</th>\n",
       "      <th>Asymmetrique Profile Score</th>\n",
       "    </tr>\n",
       "  </thead>\n",
       "  <tbody>\n",
       "    <tr>\n",
       "      <th>Converted</th>\n",
       "      <td>1.000000</td>\n",
       "      <td>0.403943</td>\n",
       "      <td>0.270854</td>\n",
       "      <td>-0.027883</td>\n",
       "      <td>0.019124</td>\n",
       "      <td>0.156042</td>\n",
       "    </tr>\n",
       "    <tr>\n",
       "      <th>Total Time Spent on Website</th>\n",
       "      <td>0.403943</td>\n",
       "      <td>1.000000</td>\n",
       "      <td>0.058880</td>\n",
       "      <td>0.204434</td>\n",
       "      <td>0.172260</td>\n",
       "      <td>0.088140</td>\n",
       "    </tr>\n",
       "    <tr>\n",
       "      <th>Asymmetrique Activity Score</th>\n",
       "      <td>0.270854</td>\n",
       "      <td>0.058880</td>\n",
       "      <td>1.000000</td>\n",
       "      <td>-0.010949</td>\n",
       "      <td>0.070587</td>\n",
       "      <td>-0.029684</td>\n",
       "    </tr>\n",
       "    <tr>\n",
       "      <th>Page Views Per Visit</th>\n",
       "      <td>-0.027883</td>\n",
       "      <td>0.204434</td>\n",
       "      <td>-0.010949</td>\n",
       "      <td>1.000000</td>\n",
       "      <td>0.543353</td>\n",
       "      <td>0.058380</td>\n",
       "    </tr>\n",
       "    <tr>\n",
       "      <th>TotalVisits</th>\n",
       "      <td>0.019124</td>\n",
       "      <td>0.172260</td>\n",
       "      <td>0.070587</td>\n",
       "      <td>0.543353</td>\n",
       "      <td>1.000000</td>\n",
       "      <td>0.051141</td>\n",
       "    </tr>\n",
       "    <tr>\n",
       "      <th>Asymmetrique Profile Score</th>\n",
       "      <td>0.156042</td>\n",
       "      <td>0.088140</td>\n",
       "      <td>-0.029684</td>\n",
       "      <td>0.058380</td>\n",
       "      <td>0.051141</td>\n",
       "      <td>1.000000</td>\n",
       "    </tr>\n",
       "  </tbody>\n",
       "</table>\n",
       "</div>"
      ],
      "text/plain": [
       "                             Converted  Total Time Spent on Website  \\\n",
       "Converted                     1.000000                     0.403943   \n",
       "Total Time Spent on Website   0.403943                     1.000000   \n",
       "Asymmetrique Activity Score   0.270854                     0.058880   \n",
       "Page Views Per Visit         -0.027883                     0.204434   \n",
       "TotalVisits                   0.019124                     0.172260   \n",
       "Asymmetrique Profile Score    0.156042                     0.088140   \n",
       "\n",
       "                             Asymmetrique Activity Score  \\\n",
       "Converted                                       0.270854   \n",
       "Total Time Spent on Website                     0.058880   \n",
       "Asymmetrique Activity Score                     1.000000   \n",
       "Page Views Per Visit                           -0.010949   \n",
       "TotalVisits                                     0.070587   \n",
       "Asymmetrique Profile Score                     -0.029684   \n",
       "\n",
       "                             Page Views Per Visit  TotalVisits  \\\n",
       "Converted                               -0.027883     0.019124   \n",
       "Total Time Spent on Website              0.204434     0.172260   \n",
       "Asymmetrique Activity Score             -0.010949     0.070587   \n",
       "Page Views Per Visit                     1.000000     0.543353   \n",
       "TotalVisits                              0.543353     1.000000   \n",
       "Asymmetrique Profile Score               0.058380     0.051141   \n",
       "\n",
       "                             Asymmetrique Profile Score  \n",
       "Converted                                      0.156042  \n",
       "Total Time Spent on Website                    0.088140  \n",
       "Asymmetrique Activity Score                   -0.029684  \n",
       "Page Views Per Visit                           0.058380  \n",
       "TotalVisits                                    0.051141  \n",
       "Asymmetrique Profile Score                     1.000000  "
      ]
     },
     "execution_count": 105,
     "metadata": {},
     "output_type": "execute_result"
    }
   ],
   "source": [
    "corelation_matrix = df.corr()\n",
    "corelation_matrix"
   ]
  },
  {
   "cell_type": "code",
   "execution_count": 106,
   "metadata": {},
   "outputs": [
    {
     "data": {
      "text/html": [
       "<div>\n",
       "<style scoped>\n",
       "    .dataframe tbody tr th:only-of-type {\n",
       "        vertical-align: middle;\n",
       "    }\n",
       "\n",
       "    .dataframe tbody tr th {\n",
       "        vertical-align: top;\n",
       "    }\n",
       "\n",
       "    .dataframe thead th {\n",
       "        text-align: right;\n",
       "    }\n",
       "</style>\n",
       "<table border=\"1\" class=\"dataframe\">\n",
       "  <thead>\n",
       "    <tr style=\"text-align: right;\">\n",
       "      <th></th>\n",
       "      <th>Lead Origin</th>\n",
       "      <th>Lead Source</th>\n",
       "      <th>Do Not Email</th>\n",
       "      <th>Do Not Call</th>\n",
       "      <th>Converted</th>\n",
       "      <th>Total Time Spent on Website</th>\n",
       "      <th>Last Activity</th>\n",
       "      <th>Specialization</th>\n",
       "      <th>Search</th>\n",
       "      <th>Magazine</th>\n",
       "      <th>...</th>\n",
       "      <th>Get updates on DM Content</th>\n",
       "      <th>City</th>\n",
       "      <th>Asymmetrique Profile Index</th>\n",
       "      <th>I agree to pay the amount through cheque</th>\n",
       "      <th>A free copy of Mastering The Interview</th>\n",
       "      <th>Last Notable Activity</th>\n",
       "      <th>Asymmetrique Activity Score</th>\n",
       "      <th>Page Views Per Visit</th>\n",
       "      <th>TotalVisits</th>\n",
       "      <th>Asymmetrique Profile Score</th>\n",
       "    </tr>\n",
       "  </thead>\n",
       "  <tbody>\n",
       "    <tr>\n",
       "      <th>0</th>\n",
       "      <td>API</td>\n",
       "      <td>Olark Chat</td>\n",
       "      <td>No</td>\n",
       "      <td>No</td>\n",
       "      <td>0</td>\n",
       "      <td>0</td>\n",
       "      <td>Page Visited on Website</td>\n",
       "      <td>Finance Management</td>\n",
       "      <td>No</td>\n",
       "      <td>No</td>\n",
       "      <td>...</td>\n",
       "      <td>No</td>\n",
       "      <td>Mumbai</td>\n",
       "      <td>02.Medium</td>\n",
       "      <td>No</td>\n",
       "      <td>No</td>\n",
       "      <td>Modified</td>\n",
       "      <td>15.0</td>\n",
       "      <td>0.0</td>\n",
       "      <td>0.0</td>\n",
       "      <td>15.0</td>\n",
       "    </tr>\n",
       "    <tr>\n",
       "      <th>1</th>\n",
       "      <td>API</td>\n",
       "      <td>Organic Search</td>\n",
       "      <td>No</td>\n",
       "      <td>No</td>\n",
       "      <td>0</td>\n",
       "      <td>674</td>\n",
       "      <td>Email Opened</td>\n",
       "      <td>Finance Management</td>\n",
       "      <td>No</td>\n",
       "      <td>No</td>\n",
       "      <td>...</td>\n",
       "      <td>No</td>\n",
       "      <td>Mumbai</td>\n",
       "      <td>02.Medium</td>\n",
       "      <td>No</td>\n",
       "      <td>No</td>\n",
       "      <td>Email Opened</td>\n",
       "      <td>15.0</td>\n",
       "      <td>2.5</td>\n",
       "      <td>5.0</td>\n",
       "      <td>15.0</td>\n",
       "    </tr>\n",
       "    <tr>\n",
       "      <th>2</th>\n",
       "      <td>Landing Page Submission</td>\n",
       "      <td>Direct Traffic</td>\n",
       "      <td>No</td>\n",
       "      <td>No</td>\n",
       "      <td>1</td>\n",
       "      <td>1532</td>\n",
       "      <td>Email Opened</td>\n",
       "      <td>Business Administration</td>\n",
       "      <td>No</td>\n",
       "      <td>No</td>\n",
       "      <td>...</td>\n",
       "      <td>No</td>\n",
       "      <td>Mumbai</td>\n",
       "      <td>01.High</td>\n",
       "      <td>No</td>\n",
       "      <td>Yes</td>\n",
       "      <td>Email Opened</td>\n",
       "      <td>14.0</td>\n",
       "      <td>2.0</td>\n",
       "      <td>2.0</td>\n",
       "      <td>20.0</td>\n",
       "    </tr>\n",
       "    <tr>\n",
       "      <th>3</th>\n",
       "      <td>Landing Page Submission</td>\n",
       "      <td>Direct Traffic</td>\n",
       "      <td>No</td>\n",
       "      <td>No</td>\n",
       "      <td>0</td>\n",
       "      <td>305</td>\n",
       "      <td>Unreachable</td>\n",
       "      <td>Media and Advertising</td>\n",
       "      <td>No</td>\n",
       "      <td>No</td>\n",
       "      <td>...</td>\n",
       "      <td>No</td>\n",
       "      <td>Mumbai</td>\n",
       "      <td>01.High</td>\n",
       "      <td>No</td>\n",
       "      <td>No</td>\n",
       "      <td>Modified</td>\n",
       "      <td>13.0</td>\n",
       "      <td>1.0</td>\n",
       "      <td>1.0</td>\n",
       "      <td>17.0</td>\n",
       "    </tr>\n",
       "    <tr>\n",
       "      <th>4</th>\n",
       "      <td>Landing Page Submission</td>\n",
       "      <td>Google</td>\n",
       "      <td>No</td>\n",
       "      <td>No</td>\n",
       "      <td>1</td>\n",
       "      <td>1428</td>\n",
       "      <td>Converted to Lead</td>\n",
       "      <td>Finance Management</td>\n",
       "      <td>No</td>\n",
       "      <td>No</td>\n",
       "      <td>...</td>\n",
       "      <td>No</td>\n",
       "      <td>Mumbai</td>\n",
       "      <td>01.High</td>\n",
       "      <td>No</td>\n",
       "      <td>No</td>\n",
       "      <td>Modified</td>\n",
       "      <td>15.0</td>\n",
       "      <td>1.0</td>\n",
       "      <td>2.0</td>\n",
       "      <td>18.0</td>\n",
       "    </tr>\n",
       "  </tbody>\n",
       "</table>\n",
       "<p>5 rows × 28 columns</p>\n",
       "</div>"
      ],
      "text/plain": [
       "               Lead Origin     Lead Source Do Not Email Do Not Call  \\\n",
       "0                      API      Olark Chat           No          No   \n",
       "1                      API  Organic Search           No          No   \n",
       "2  Landing Page Submission  Direct Traffic           No          No   \n",
       "3  Landing Page Submission  Direct Traffic           No          No   \n",
       "4  Landing Page Submission          Google           No          No   \n",
       "\n",
       "   Converted  Total Time Spent on Website            Last Activity  \\\n",
       "0          0                            0  Page Visited on Website   \n",
       "1          0                          674             Email Opened   \n",
       "2          1                         1532             Email Opened   \n",
       "3          0                          305              Unreachable   \n",
       "4          1                         1428        Converted to Lead   \n",
       "\n",
       "            Specialization Search Magazine  ... Get updates on DM Content  \\\n",
       "0       Finance Management     No       No  ...                        No   \n",
       "1       Finance Management     No       No  ...                        No   \n",
       "2  Business Administration     No       No  ...                        No   \n",
       "3    Media and Advertising     No       No  ...                        No   \n",
       "4       Finance Management     No       No  ...                        No   \n",
       "\n",
       "     City Asymmetrique Profile Index I agree to pay the amount through cheque  \\\n",
       "0  Mumbai                  02.Medium                                       No   \n",
       "1  Mumbai                  02.Medium                                       No   \n",
       "2  Mumbai                    01.High                                       No   \n",
       "3  Mumbai                    01.High                                       No   \n",
       "4  Mumbai                    01.High                                       No   \n",
       "\n",
       "  A free copy of Mastering The Interview Last Notable Activity  \\\n",
       "0                                     No              Modified   \n",
       "1                                     No          Email Opened   \n",
       "2                                    Yes          Email Opened   \n",
       "3                                     No              Modified   \n",
       "4                                     No              Modified   \n",
       "\n",
       "  Asymmetrique Activity Score Page Views Per Visit TotalVisits  \\\n",
       "0                        15.0                  0.0         0.0   \n",
       "1                        15.0                  2.5         5.0   \n",
       "2                        14.0                  2.0         2.0   \n",
       "3                        13.0                  1.0         1.0   \n",
       "4                        15.0                  1.0         2.0   \n",
       "\n",
       "  Asymmetrique Profile Score  \n",
       "0                       15.0  \n",
       "1                       15.0  \n",
       "2                       20.0  \n",
       "3                       17.0  \n",
       "4                       18.0  \n",
       "\n",
       "[5 rows x 28 columns]"
      ]
     },
     "execution_count": 106,
     "metadata": {},
     "output_type": "execute_result"
    }
   ],
   "source": [
    "df.head()"
   ]
  },
  {
   "cell_type": "code",
   "execution_count": 107,
   "metadata": {},
   "outputs": [
    {
     "data": {
      "text/plain": [
       "No     5025\n",
       "Yes       2\n",
       "Name: Do Not Call, dtype: int64"
      ]
     },
     "execution_count": 107,
     "metadata": {},
     "output_type": "execute_result"
    }
   ],
   "source": [
    "df['Do Not Call'].value_counts()"
   ]
  },
  {
   "cell_type": "markdown",
   "metadata": {},
   "source": [
    "##### Mapping columns with yes/no values to 1/0"
   ]
  },
  {
   "cell_type": "code",
   "execution_count": 108,
   "metadata": {},
   "outputs": [],
   "source": [
    "varlist = ['Do Not Email','Do Not Call','Search','Magazine','Newspaper Article','X Education Forums','Newspaper',\n",
    "'Digital Advertisement','Through Recommendations','Receive More Updates About Our Courses','Update me on Supply Chain Content',\n",
    "'Get updates on DM Content','I agree to pay the amount through cheque','A free copy of Mastering The Interview',\n",
    "]\n",
    "\n",
    "# Defining the map function\n",
    "def binary_map(x):\n",
    "    return x.map({'Yes': 1, \"No\": 0})\n",
    "\n",
    "# Applying the function to the housing list\n",
    "df[varlist] = df[varlist].apply(binary_map)"
   ]
  },
  {
   "cell_type": "code",
   "execution_count": 109,
   "metadata": {},
   "outputs": [
    {
     "data": {
      "text/html": [
       "<div>\n",
       "<style scoped>\n",
       "    .dataframe tbody tr th:only-of-type {\n",
       "        vertical-align: middle;\n",
       "    }\n",
       "\n",
       "    .dataframe tbody tr th {\n",
       "        vertical-align: top;\n",
       "    }\n",
       "\n",
       "    .dataframe thead th {\n",
       "        text-align: right;\n",
       "    }\n",
       "</style>\n",
       "<table border=\"1\" class=\"dataframe\">\n",
       "  <thead>\n",
       "    <tr style=\"text-align: right;\">\n",
       "      <th></th>\n",
       "      <th>Lead Origin</th>\n",
       "      <th>Lead Source</th>\n",
       "      <th>Do Not Email</th>\n",
       "      <th>Do Not Call</th>\n",
       "      <th>Converted</th>\n",
       "      <th>Total Time Spent on Website</th>\n",
       "      <th>Last Activity</th>\n",
       "      <th>Specialization</th>\n",
       "      <th>Search</th>\n",
       "      <th>Magazine</th>\n",
       "      <th>...</th>\n",
       "      <th>Get updates on DM Content</th>\n",
       "      <th>City</th>\n",
       "      <th>Asymmetrique Profile Index</th>\n",
       "      <th>I agree to pay the amount through cheque</th>\n",
       "      <th>A free copy of Mastering The Interview</th>\n",
       "      <th>Last Notable Activity</th>\n",
       "      <th>Asymmetrique Activity Score</th>\n",
       "      <th>Page Views Per Visit</th>\n",
       "      <th>TotalVisits</th>\n",
       "      <th>Asymmetrique Profile Score</th>\n",
       "    </tr>\n",
       "  </thead>\n",
       "  <tbody>\n",
       "    <tr>\n",
       "      <th>0</th>\n",
       "      <td>API</td>\n",
       "      <td>Olark Chat</td>\n",
       "      <td>0</td>\n",
       "      <td>0</td>\n",
       "      <td>0</td>\n",
       "      <td>0</td>\n",
       "      <td>Page Visited on Website</td>\n",
       "      <td>Finance Management</td>\n",
       "      <td>0</td>\n",
       "      <td>0</td>\n",
       "      <td>...</td>\n",
       "      <td>0</td>\n",
       "      <td>Mumbai</td>\n",
       "      <td>02.Medium</td>\n",
       "      <td>0</td>\n",
       "      <td>0</td>\n",
       "      <td>Modified</td>\n",
       "      <td>15.0</td>\n",
       "      <td>0.0</td>\n",
       "      <td>0.0</td>\n",
       "      <td>15.0</td>\n",
       "    </tr>\n",
       "    <tr>\n",
       "      <th>1</th>\n",
       "      <td>API</td>\n",
       "      <td>Organic Search</td>\n",
       "      <td>0</td>\n",
       "      <td>0</td>\n",
       "      <td>0</td>\n",
       "      <td>674</td>\n",
       "      <td>Email Opened</td>\n",
       "      <td>Finance Management</td>\n",
       "      <td>0</td>\n",
       "      <td>0</td>\n",
       "      <td>...</td>\n",
       "      <td>0</td>\n",
       "      <td>Mumbai</td>\n",
       "      <td>02.Medium</td>\n",
       "      <td>0</td>\n",
       "      <td>0</td>\n",
       "      <td>Email Opened</td>\n",
       "      <td>15.0</td>\n",
       "      <td>2.5</td>\n",
       "      <td>5.0</td>\n",
       "      <td>15.0</td>\n",
       "    </tr>\n",
       "    <tr>\n",
       "      <th>2</th>\n",
       "      <td>Landing Page Submission</td>\n",
       "      <td>Direct Traffic</td>\n",
       "      <td>0</td>\n",
       "      <td>0</td>\n",
       "      <td>1</td>\n",
       "      <td>1532</td>\n",
       "      <td>Email Opened</td>\n",
       "      <td>Business Administration</td>\n",
       "      <td>0</td>\n",
       "      <td>0</td>\n",
       "      <td>...</td>\n",
       "      <td>0</td>\n",
       "      <td>Mumbai</td>\n",
       "      <td>01.High</td>\n",
       "      <td>0</td>\n",
       "      <td>1</td>\n",
       "      <td>Email Opened</td>\n",
       "      <td>14.0</td>\n",
       "      <td>2.0</td>\n",
       "      <td>2.0</td>\n",
       "      <td>20.0</td>\n",
       "    </tr>\n",
       "    <tr>\n",
       "      <th>3</th>\n",
       "      <td>Landing Page Submission</td>\n",
       "      <td>Direct Traffic</td>\n",
       "      <td>0</td>\n",
       "      <td>0</td>\n",
       "      <td>0</td>\n",
       "      <td>305</td>\n",
       "      <td>Unreachable</td>\n",
       "      <td>Media and Advertising</td>\n",
       "      <td>0</td>\n",
       "      <td>0</td>\n",
       "      <td>...</td>\n",
       "      <td>0</td>\n",
       "      <td>Mumbai</td>\n",
       "      <td>01.High</td>\n",
       "      <td>0</td>\n",
       "      <td>0</td>\n",
       "      <td>Modified</td>\n",
       "      <td>13.0</td>\n",
       "      <td>1.0</td>\n",
       "      <td>1.0</td>\n",
       "      <td>17.0</td>\n",
       "    </tr>\n",
       "    <tr>\n",
       "      <th>4</th>\n",
       "      <td>Landing Page Submission</td>\n",
       "      <td>Google</td>\n",
       "      <td>0</td>\n",
       "      <td>0</td>\n",
       "      <td>1</td>\n",
       "      <td>1428</td>\n",
       "      <td>Converted to Lead</td>\n",
       "      <td>Finance Management</td>\n",
       "      <td>0</td>\n",
       "      <td>0</td>\n",
       "      <td>...</td>\n",
       "      <td>0</td>\n",
       "      <td>Mumbai</td>\n",
       "      <td>01.High</td>\n",
       "      <td>0</td>\n",
       "      <td>0</td>\n",
       "      <td>Modified</td>\n",
       "      <td>15.0</td>\n",
       "      <td>1.0</td>\n",
       "      <td>2.0</td>\n",
       "      <td>18.0</td>\n",
       "    </tr>\n",
       "  </tbody>\n",
       "</table>\n",
       "<p>5 rows × 28 columns</p>\n",
       "</div>"
      ],
      "text/plain": [
       "               Lead Origin     Lead Source  Do Not Email  Do Not Call  \\\n",
       "0                      API      Olark Chat             0            0   \n",
       "1                      API  Organic Search             0            0   \n",
       "2  Landing Page Submission  Direct Traffic             0            0   \n",
       "3  Landing Page Submission  Direct Traffic             0            0   \n",
       "4  Landing Page Submission          Google             0            0   \n",
       "\n",
       "   Converted  Total Time Spent on Website            Last Activity  \\\n",
       "0          0                            0  Page Visited on Website   \n",
       "1          0                          674             Email Opened   \n",
       "2          1                         1532             Email Opened   \n",
       "3          0                          305              Unreachable   \n",
       "4          1                         1428        Converted to Lead   \n",
       "\n",
       "            Specialization  Search  Magazine  ...  Get updates on DM Content  \\\n",
       "0       Finance Management       0         0  ...                          0   \n",
       "1       Finance Management       0         0  ...                          0   \n",
       "2  Business Administration       0         0  ...                          0   \n",
       "3    Media and Advertising       0         0  ...                          0   \n",
       "4       Finance Management       0         0  ...                          0   \n",
       "\n",
       "     City  Asymmetrique Profile Index  \\\n",
       "0  Mumbai                   02.Medium   \n",
       "1  Mumbai                   02.Medium   \n",
       "2  Mumbai                     01.High   \n",
       "3  Mumbai                     01.High   \n",
       "4  Mumbai                     01.High   \n",
       "\n",
       "   I agree to pay the amount through cheque  \\\n",
       "0                                         0   \n",
       "1                                         0   \n",
       "2                                         0   \n",
       "3                                         0   \n",
       "4                                         0   \n",
       "\n",
       "   A free copy of Mastering The Interview  Last Notable Activity  \\\n",
       "0                                       0               Modified   \n",
       "1                                       0           Email Opened   \n",
       "2                                       1           Email Opened   \n",
       "3                                       0               Modified   \n",
       "4                                       0               Modified   \n",
       "\n",
       "  Asymmetrique Activity Score  Page Views Per Visit  TotalVisits  \\\n",
       "0                        15.0                   0.0          0.0   \n",
       "1                        15.0                   2.5          5.0   \n",
       "2                        14.0                   2.0          2.0   \n",
       "3                        13.0                   1.0          1.0   \n",
       "4                        15.0                   1.0          2.0   \n",
       "\n",
       "  Asymmetrique Profile Score  \n",
       "0                       15.0  \n",
       "1                       15.0  \n",
       "2                       20.0  \n",
       "3                       17.0  \n",
       "4                       18.0  \n",
       "\n",
       "[5 rows x 28 columns]"
      ]
     },
     "execution_count": 109,
     "metadata": {},
     "output_type": "execute_result"
    }
   ],
   "source": [
    "df.head()"
   ]
  },
  {
   "cell_type": "code",
   "execution_count": 110,
   "metadata": {},
   "outputs": [
    {
     "data": {
      "text/plain": [
       "Index(['Lead Origin', 'Lead Source', 'Do Not Email', 'Do Not Call',\n",
       "       'Converted', 'Total Time Spent on Website', 'Last Activity',\n",
       "       'Specialization', 'Search', 'Magazine', 'Newspaper Article',\n",
       "       'X Education Forums', 'Newspaper', 'Digital Advertisement',\n",
       "       'Through Recommendations', 'Receive More Updates About Our Courses',\n",
       "       'Tags', 'Update me on Supply Chain Content',\n",
       "       'Get updates on DM Content', 'City', 'Asymmetrique Profile Index',\n",
       "       'I agree to pay the amount through cheque',\n",
       "       'A free copy of Mastering The Interview', 'Last Notable Activity',\n",
       "       'Asymmetrique Activity Score', 'Page Views Per Visit', 'TotalVisits',\n",
       "       'Asymmetrique Profile Score'],\n",
       "      dtype='object')"
      ]
     },
     "execution_count": 110,
     "metadata": {},
     "output_type": "execute_result"
    }
   ],
   "source": [
    "df.columns"
   ]
  },
  {
   "cell_type": "code",
   "execution_count": 111,
   "metadata": {},
   "outputs": [
    {
     "data": {
      "text/plain": [
       "(5027, 28)"
      ]
     },
     "execution_count": 111,
     "metadata": {},
     "output_type": "execute_result"
    }
   ],
   "source": [
    "df.shape"
   ]
  },
  {
   "cell_type": "markdown",
   "metadata": {},
   "source": [
    "- drop Asymetric columns, Specialization, Tags"
   ]
  },
  {
   "cell_type": "code",
   "execution_count": 112,
   "metadata": {},
   "outputs": [],
   "source": [
    "df = df.drop(['Tags','Specialization','Asymmetrique Activity Score','Asymmetrique Profile Index',\n",
    "             'Asymmetrique Profile Score','X Education Forums',\n",
    "             'Newspaper','Digital Advertisement','Through Recommendations',\n",
    "             'Receive More Updates About Our Courses','Update me on Supply Chain Content',\n",
    "             'Get updates on DM Content','I agree to pay the amount through cheque'], axis=1)"
   ]
  },
  {
   "cell_type": "code",
   "execution_count": 113,
   "metadata": {},
   "outputs": [
    {
     "data": {
      "text/plain": [
       "(5027, 15)"
      ]
     },
     "execution_count": 113,
     "metadata": {},
     "output_type": "execute_result"
    }
   ],
   "source": [
    "df.shape"
   ]
  },
  {
   "cell_type": "code",
   "execution_count": 114,
   "metadata": {},
   "outputs": [
    {
     "data": {
      "text/plain": [
       "(5027, 11)"
      ]
     },
     "execution_count": 114,
     "metadata": {},
     "output_type": "execute_result"
    }
   ],
   "source": [
    "# Removing Magazine, search, Newspaper Article, Do Not Call since these features are highly skewed\n",
    "df = df.drop(['Magazine','Search','Newspaper Article','Do Not Call'], axis=1)\n",
    "df.shape"
   ]
  },
  {
   "cell_type": "code",
   "execution_count": 115,
   "metadata": {},
   "outputs": [
    {
     "name": "stdout",
     "output_type": "stream",
     "text": [
      "<class 'pandas.core.frame.DataFrame'>\n",
      "Int64Index: 5027 entries, 0 to 9239\n",
      "Data columns (total 11 columns):\n",
      " #   Column                                  Non-Null Count  Dtype  \n",
      "---  ------                                  --------------  -----  \n",
      " 0   Lead Origin                             5027 non-null   object \n",
      " 1   Lead Source                             5027 non-null   object \n",
      " 2   Do Not Email                            5027 non-null   int64  \n",
      " 3   Converted                               5027 non-null   int64  \n",
      " 4   Total Time Spent on Website             5027 non-null   int64  \n",
      " 5   Last Activity                           5027 non-null   object \n",
      " 6   City                                    5027 non-null   object \n",
      " 7   A free copy of Mastering The Interview  5027 non-null   int64  \n",
      " 8   Last Notable Activity                   5027 non-null   object \n",
      " 9   Page Views Per Visit                    5027 non-null   float64\n",
      " 10  TotalVisits                             5027 non-null   float64\n",
      "dtypes: float64(2), int64(4), object(5)\n",
      "memory usage: 471.3+ KB\n"
     ]
    }
   ],
   "source": [
    "df.info()"
   ]
  },
  {
   "cell_type": "markdown",
   "metadata": {},
   "source": [
    "#### Dummy Creation"
   ]
  },
  {
   "cell_type": "code",
   "execution_count": 116,
   "metadata": {},
   "outputs": [
    {
     "data": {
      "text/plain": [
       "(5027, 62)"
      ]
     },
     "execution_count": 116,
     "metadata": {},
     "output_type": "execute_result"
    }
   ],
   "source": [
    "object_cols = ['Lead Origin','Lead Source','Last Activity','City','Last Notable Activity']\n",
    "for i in object_cols:\n",
    "    dummy_df = pd.get_dummies(df[i], drop_first = True)\n",
    "    df = pd.concat([df, dummy_df], axis = 1)\n",
    "df.shape"
   ]
  },
  {
   "cell_type": "markdown",
   "metadata": {},
   "source": [
    "#### Test Train Split"
   ]
  },
  {
   "cell_type": "code",
   "execution_count": 117,
   "metadata": {},
   "outputs": [],
   "source": [
    "from sklearn.model_selection import train_test_split"
   ]
  },
  {
   "cell_type": "code",
   "execution_count": 118,
   "metadata": {},
   "outputs": [
    {
     "data": {
      "text/html": [
       "<div>\n",
       "<style scoped>\n",
       "    .dataframe tbody tr th:only-of-type {\n",
       "        vertical-align: middle;\n",
       "    }\n",
       "\n",
       "    .dataframe tbody tr th {\n",
       "        vertical-align: top;\n",
       "    }\n",
       "\n",
       "    .dataframe thead th {\n",
       "        text-align: right;\n",
       "    }\n",
       "</style>\n",
       "<table border=\"1\" class=\"dataframe\">\n",
       "  <thead>\n",
       "    <tr style=\"text-align: right;\">\n",
       "      <th></th>\n",
       "      <th>Lead Origin</th>\n",
       "      <th>Lead Source</th>\n",
       "      <th>Do Not Email</th>\n",
       "      <th>Total Time Spent on Website</th>\n",
       "      <th>Last Activity</th>\n",
       "      <th>City</th>\n",
       "      <th>A free copy of Mastering The Interview</th>\n",
       "      <th>Last Notable Activity</th>\n",
       "      <th>Page Views Per Visit</th>\n",
       "      <th>TotalVisits</th>\n",
       "      <th>...</th>\n",
       "      <th>Email Marked Spam</th>\n",
       "      <th>Email Opened</th>\n",
       "      <th>Email Received</th>\n",
       "      <th>Had a Phone Conversation</th>\n",
       "      <th>Modified</th>\n",
       "      <th>Olark Chat Conversation</th>\n",
       "      <th>Page Visited on Website</th>\n",
       "      <th>SMS Sent</th>\n",
       "      <th>Unreachable</th>\n",
       "      <th>Unsubscribed</th>\n",
       "    </tr>\n",
       "  </thead>\n",
       "  <tbody>\n",
       "    <tr>\n",
       "      <th>0</th>\n",
       "      <td>API</td>\n",
       "      <td>Olark Chat</td>\n",
       "      <td>0</td>\n",
       "      <td>0</td>\n",
       "      <td>Page Visited on Website</td>\n",
       "      <td>Mumbai</td>\n",
       "      <td>0</td>\n",
       "      <td>Modified</td>\n",
       "      <td>0.0</td>\n",
       "      <td>0.0</td>\n",
       "      <td>...</td>\n",
       "      <td>0</td>\n",
       "      <td>0</td>\n",
       "      <td>0</td>\n",
       "      <td>0</td>\n",
       "      <td>1</td>\n",
       "      <td>0</td>\n",
       "      <td>0</td>\n",
       "      <td>0</td>\n",
       "      <td>0</td>\n",
       "      <td>0</td>\n",
       "    </tr>\n",
       "    <tr>\n",
       "      <th>1</th>\n",
       "      <td>API</td>\n",
       "      <td>Organic Search</td>\n",
       "      <td>0</td>\n",
       "      <td>674</td>\n",
       "      <td>Email Opened</td>\n",
       "      <td>Mumbai</td>\n",
       "      <td>0</td>\n",
       "      <td>Email Opened</td>\n",
       "      <td>2.5</td>\n",
       "      <td>5.0</td>\n",
       "      <td>...</td>\n",
       "      <td>0</td>\n",
       "      <td>1</td>\n",
       "      <td>0</td>\n",
       "      <td>0</td>\n",
       "      <td>0</td>\n",
       "      <td>0</td>\n",
       "      <td>0</td>\n",
       "      <td>0</td>\n",
       "      <td>0</td>\n",
       "      <td>0</td>\n",
       "    </tr>\n",
       "    <tr>\n",
       "      <th>2</th>\n",
       "      <td>Landing Page Submission</td>\n",
       "      <td>Direct Traffic</td>\n",
       "      <td>0</td>\n",
       "      <td>1532</td>\n",
       "      <td>Email Opened</td>\n",
       "      <td>Mumbai</td>\n",
       "      <td>1</td>\n",
       "      <td>Email Opened</td>\n",
       "      <td>2.0</td>\n",
       "      <td>2.0</td>\n",
       "      <td>...</td>\n",
       "      <td>0</td>\n",
       "      <td>1</td>\n",
       "      <td>0</td>\n",
       "      <td>0</td>\n",
       "      <td>0</td>\n",
       "      <td>0</td>\n",
       "      <td>0</td>\n",
       "      <td>0</td>\n",
       "      <td>0</td>\n",
       "      <td>0</td>\n",
       "    </tr>\n",
       "    <tr>\n",
       "      <th>3</th>\n",
       "      <td>Landing Page Submission</td>\n",
       "      <td>Direct Traffic</td>\n",
       "      <td>0</td>\n",
       "      <td>305</td>\n",
       "      <td>Unreachable</td>\n",
       "      <td>Mumbai</td>\n",
       "      <td>0</td>\n",
       "      <td>Modified</td>\n",
       "      <td>1.0</td>\n",
       "      <td>1.0</td>\n",
       "      <td>...</td>\n",
       "      <td>0</td>\n",
       "      <td>0</td>\n",
       "      <td>0</td>\n",
       "      <td>0</td>\n",
       "      <td>1</td>\n",
       "      <td>0</td>\n",
       "      <td>0</td>\n",
       "      <td>0</td>\n",
       "      <td>0</td>\n",
       "      <td>0</td>\n",
       "    </tr>\n",
       "    <tr>\n",
       "      <th>4</th>\n",
       "      <td>Landing Page Submission</td>\n",
       "      <td>Google</td>\n",
       "      <td>0</td>\n",
       "      <td>1428</td>\n",
       "      <td>Converted to Lead</td>\n",
       "      <td>Mumbai</td>\n",
       "      <td>0</td>\n",
       "      <td>Modified</td>\n",
       "      <td>1.0</td>\n",
       "      <td>2.0</td>\n",
       "      <td>...</td>\n",
       "      <td>0</td>\n",
       "      <td>0</td>\n",
       "      <td>0</td>\n",
       "      <td>0</td>\n",
       "      <td>1</td>\n",
       "      <td>0</td>\n",
       "      <td>0</td>\n",
       "      <td>0</td>\n",
       "      <td>0</td>\n",
       "      <td>0</td>\n",
       "    </tr>\n",
       "  </tbody>\n",
       "</table>\n",
       "<p>5 rows × 61 columns</p>\n",
       "</div>"
      ],
      "text/plain": [
       "               Lead Origin     Lead Source  Do Not Email  \\\n",
       "0                      API      Olark Chat             0   \n",
       "1                      API  Organic Search             0   \n",
       "2  Landing Page Submission  Direct Traffic             0   \n",
       "3  Landing Page Submission  Direct Traffic             0   \n",
       "4  Landing Page Submission          Google             0   \n",
       "\n",
       "   Total Time Spent on Website            Last Activity    City  \\\n",
       "0                            0  Page Visited on Website  Mumbai   \n",
       "1                          674             Email Opened  Mumbai   \n",
       "2                         1532             Email Opened  Mumbai   \n",
       "3                          305              Unreachable  Mumbai   \n",
       "4                         1428        Converted to Lead  Mumbai   \n",
       "\n",
       "   A free copy of Mastering The Interview Last Notable Activity  \\\n",
       "0                                       0              Modified   \n",
       "1                                       0          Email Opened   \n",
       "2                                       1          Email Opened   \n",
       "3                                       0              Modified   \n",
       "4                                       0              Modified   \n",
       "\n",
       "   Page Views Per Visit  TotalVisits  ...  Email Marked Spam  Email Opened  \\\n",
       "0                   0.0          0.0  ...                  0             0   \n",
       "1                   2.5          5.0  ...                  0             1   \n",
       "2                   2.0          2.0  ...                  0             1   \n",
       "3                   1.0          1.0  ...                  0             0   \n",
       "4                   1.0          2.0  ...                  0             0   \n",
       "\n",
       "   Email Received  Had a Phone Conversation  Modified  \\\n",
       "0               0                         0         1   \n",
       "1               0                         0         0   \n",
       "2               0                         0         0   \n",
       "3               0                         0         1   \n",
       "4               0                         0         1   \n",
       "\n",
       "   Olark Chat Conversation  Page Visited on Website  SMS Sent  Unreachable  \\\n",
       "0                        0                        0         0            0   \n",
       "1                        0                        0         0            0   \n",
       "2                        0                        0         0            0   \n",
       "3                        0                        0         0            0   \n",
       "4                        0                        0         0            0   \n",
       "\n",
       "   Unsubscribed  \n",
       "0             0  \n",
       "1             0  \n",
       "2             0  \n",
       "3             0  \n",
       "4             0  \n",
       "\n",
       "[5 rows x 61 columns]"
      ]
     },
     "execution_count": 118,
     "metadata": {},
     "output_type": "execute_result"
    }
   ],
   "source": [
    "X = df.drop('Converted', axis = 1)\n",
    "X.head()"
   ]
  },
  {
   "cell_type": "code",
   "execution_count": 119,
   "metadata": {},
   "outputs": [
    {
     "data": {
      "text/plain": [
       "0    0\n",
       "1    0\n",
       "2    1\n",
       "3    0\n",
       "4    1\n",
       "Name: Converted, dtype: int64"
      ]
     },
     "execution_count": 119,
     "metadata": {},
     "output_type": "execute_result"
    }
   ],
   "source": [
    "y = df['Converted']\n",
    "y.head()"
   ]
  },
  {
   "cell_type": "code",
   "execution_count": 120,
   "metadata": {},
   "outputs": [],
   "source": [
    "X_train, X_test, y_train, y_test = train_test_split(X, y, train_size=0.7, random_state=100)"
   ]
  },
  {
   "cell_type": "markdown",
   "metadata": {},
   "source": [
    "#### Feature scaling"
   ]
  },
  {
   "cell_type": "code",
   "execution_count": 121,
   "metadata": {},
   "outputs": [],
   "source": [
    "from sklearn.preprocessing import StandardScaler"
   ]
  },
  {
   "cell_type": "code",
   "execution_count": 123,
   "metadata": {},
   "outputs": [
    {
     "name": "stdout",
     "output_type": "stream",
     "text": [
      "<class 'pandas.core.frame.DataFrame'>\n",
      "Int64Index: 5027 entries, 0 to 9239\n",
      "Data columns (total 62 columns):\n",
      " #   Column                                  Non-Null Count  Dtype  \n",
      "---  ------                                  --------------  -----  \n",
      " 0   Lead Origin                             5027 non-null   object \n",
      " 1   Lead Source                             5027 non-null   object \n",
      " 2   Do Not Email                            5027 non-null   int64  \n",
      " 3   Converted                               5027 non-null   int64  \n",
      " 4   Total Time Spent on Website             5027 non-null   int64  \n",
      " 5   Last Activity                           5027 non-null   object \n",
      " 6   City                                    5027 non-null   object \n",
      " 7   A free copy of Mastering The Interview  5027 non-null   int64  \n",
      " 8   Last Notable Activity                   5027 non-null   object \n",
      " 9   Page Views Per Visit                    5027 non-null   float64\n",
      " 10  TotalVisits                             5027 non-null   float64\n",
      " 11  Landing Page Submission                 5027 non-null   uint8  \n",
      " 12  Lead Add Form                           5027 non-null   uint8  \n",
      " 13  Lead Import                             5027 non-null   uint8  \n",
      " 14  Direct Traffic                          5027 non-null   uint8  \n",
      " 15  Facebook                                5027 non-null   uint8  \n",
      " 16  Google                                  5027 non-null   uint8  \n",
      " 17  Live Chat                               5027 non-null   uint8  \n",
      " 18  NC_EDM                                  5027 non-null   uint8  \n",
      " 19  Olark Chat                              5027 non-null   uint8  \n",
      " 20  Organic Search                          5027 non-null   uint8  \n",
      " 21  Pay per Click Ads                       5027 non-null   uint8  \n",
      " 22  Press_Release                           5027 non-null   uint8  \n",
      " 23  Reference                               5027 non-null   uint8  \n",
      " 24  Referral Sites                          5027 non-null   uint8  \n",
      " 25  Social Media                            5027 non-null   uint8  \n",
      " 26  WeLearn                                 5027 non-null   uint8  \n",
      " 27  Welingak Website                        5027 non-null   uint8  \n",
      " 28  bing                                    5027 non-null   uint8  \n",
      " 29  testone                                 5027 non-null   uint8  \n",
      " 30  Converted to Lead                       5027 non-null   uint8  \n",
      " 31  Email Bounced                           5027 non-null   uint8  \n",
      " 32  Email Link Clicked                      5027 non-null   uint8  \n",
      " 33  Email Marked Spam                       5027 non-null   uint8  \n",
      " 34  Email Opened                            5027 non-null   uint8  \n",
      " 35  Email Received                          5027 non-null   uint8  \n",
      " 36  Form Submitted on Website               5027 non-null   uint8  \n",
      " 37  Had a Phone Conversation                5027 non-null   uint8  \n",
      " 38  Olark Chat Conversation                 5027 non-null   uint8  \n",
      " 39  Page Visited on Website                 5027 non-null   uint8  \n",
      " 40  SMS Sent                                5027 non-null   uint8  \n",
      " 41  Unreachable                             5027 non-null   uint8  \n",
      " 42  Unsubscribed                            5027 non-null   uint8  \n",
      " 43  View in browser link Clicked            5027 non-null   uint8  \n",
      " 44  Visited Booth in Tradeshow              5027 non-null   uint8  \n",
      " 45  Other Cities                            5027 non-null   uint8  \n",
      " 46  Other Cities of Maharashtra             5027 non-null   uint8  \n",
      " 47  Other Metro Cities                      5027 non-null   uint8  \n",
      " 48  Thane & Outskirts                       5027 non-null   uint8  \n",
      " 49  Tier II Cities                          5027 non-null   uint8  \n",
      " 50  Email Bounced                           5027 non-null   uint8  \n",
      " 51  Email Link Clicked                      5027 non-null   uint8  \n",
      " 52  Email Marked Spam                       5027 non-null   uint8  \n",
      " 53  Email Opened                            5027 non-null   uint8  \n",
      " 54  Email Received                          5027 non-null   uint8  \n",
      " 55  Had a Phone Conversation                5027 non-null   uint8  \n",
      " 56  Modified                                5027 non-null   uint8  \n",
      " 57  Olark Chat Conversation                 5027 non-null   uint8  \n",
      " 58  Page Visited on Website                 5027 non-null   uint8  \n",
      " 59  SMS Sent                                5027 non-null   uint8  \n",
      " 60  Unreachable                             5027 non-null   uint8  \n",
      " 61  Unsubscribed                            5027 non-null   uint8  \n",
      "dtypes: float64(2), int64(4), object(5), uint8(51)\n",
      "memory usage: 721.6+ KB\n"
     ]
    }
   ],
   "source": [
    "df.info()"
   ]
  },
  {
   "cell_type": "code",
   "execution_count": 129,
   "metadata": {
    "scrolled": true
   },
   "outputs": [
    {
     "data": {
      "text/html": [
       "<div>\n",
       "<style scoped>\n",
       "    .dataframe tbody tr th:only-of-type {\n",
       "        vertical-align: middle;\n",
       "    }\n",
       "\n",
       "    .dataframe tbody tr th {\n",
       "        vertical-align: top;\n",
       "    }\n",
       "\n",
       "    .dataframe thead th {\n",
       "        text-align: right;\n",
       "    }\n",
       "</style>\n",
       "<table border=\"1\" class=\"dataframe\">\n",
       "  <thead>\n",
       "    <tr style=\"text-align: right;\">\n",
       "      <th></th>\n",
       "      <th>Lead Origin</th>\n",
       "      <th>Lead Source</th>\n",
       "      <th>Do Not Email</th>\n",
       "      <th>Total Time Spent on Website</th>\n",
       "      <th>Last Activity</th>\n",
       "      <th>City</th>\n",
       "      <th>A free copy of Mastering The Interview</th>\n",
       "      <th>Last Notable Activity</th>\n",
       "      <th>Page Views Per Visit</th>\n",
       "      <th>TotalVisits</th>\n",
       "      <th>...</th>\n",
       "      <th>Email Marked Spam</th>\n",
       "      <th>Email Opened</th>\n",
       "      <th>Email Received</th>\n",
       "      <th>Had a Phone Conversation</th>\n",
       "      <th>Modified</th>\n",
       "      <th>Olark Chat Conversation</th>\n",
       "      <th>Page Visited on Website</th>\n",
       "      <th>SMS Sent</th>\n",
       "      <th>Unreachable</th>\n",
       "      <th>Unsubscribed</th>\n",
       "    </tr>\n",
       "  </thead>\n",
       "  <tbody>\n",
       "    <tr>\n",
       "      <th>1737</th>\n",
       "      <td>API</td>\n",
       "      <td>Olark Chat</td>\n",
       "      <td>0</td>\n",
       "      <td>-0.767149</td>\n",
       "      <td>Email Opened</td>\n",
       "      <td>Mumbai</td>\n",
       "      <td>0</td>\n",
       "      <td>Email Opened</td>\n",
       "      <td>-0.618958</td>\n",
       "      <td>-0.271296</td>\n",
       "      <td>...</td>\n",
       "      <td>0</td>\n",
       "      <td>1</td>\n",
       "      <td>0</td>\n",
       "      <td>0</td>\n",
       "      <td>0</td>\n",
       "      <td>0</td>\n",
       "      <td>0</td>\n",
       "      <td>0</td>\n",
       "      <td>0</td>\n",
       "      <td>0</td>\n",
       "    </tr>\n",
       "    <tr>\n",
       "      <th>161</th>\n",
       "      <td>API</td>\n",
       "      <td>Olark Chat</td>\n",
       "      <td>0</td>\n",
       "      <td>2.146700</td>\n",
       "      <td>Had a Phone Conversation</td>\n",
       "      <td>Other Cities of Maharashtra</td>\n",
       "      <td>1</td>\n",
       "      <td>Had a Phone Conversation</td>\n",
       "      <td>0.225363</td>\n",
       "      <td>1.324722</td>\n",
       "      <td>...</td>\n",
       "      <td>0</td>\n",
       "      <td>0</td>\n",
       "      <td>0</td>\n",
       "      <td>1</td>\n",
       "      <td>0</td>\n",
       "      <td>0</td>\n",
       "      <td>0</td>\n",
       "      <td>0</td>\n",
       "      <td>0</td>\n",
       "      <td>0</td>\n",
       "    </tr>\n",
       "    <tr>\n",
       "      <th>394</th>\n",
       "      <td>Landing Page Submission</td>\n",
       "      <td>Google</td>\n",
       "      <td>0</td>\n",
       "      <td>-0.855501</td>\n",
       "      <td>Page Visited on Website</td>\n",
       "      <td>Other Cities of Maharashtra</td>\n",
       "      <td>0</td>\n",
       "      <td>Page Visited on Website</td>\n",
       "      <td>0.382231</td>\n",
       "      <td>1.552725</td>\n",
       "      <td>...</td>\n",
       "      <td>0</td>\n",
       "      <td>0</td>\n",
       "      <td>0</td>\n",
       "      <td>0</td>\n",
       "      <td>0</td>\n",
       "      <td>0</td>\n",
       "      <td>1</td>\n",
       "      <td>0</td>\n",
       "      <td>0</td>\n",
       "      <td>0</td>\n",
       "    </tr>\n",
       "    <tr>\n",
       "      <th>8399</th>\n",
       "      <td>API</td>\n",
       "      <td>Google</td>\n",
       "      <td>0</td>\n",
       "      <td>-1.035739</td>\n",
       "      <td>Email Opened</td>\n",
       "      <td>Mumbai</td>\n",
       "      <td>0</td>\n",
       "      <td>Email Opened</td>\n",
       "      <td>-0.849647</td>\n",
       "      <td>-0.271296</td>\n",
       "      <td>...</td>\n",
       "      <td>0</td>\n",
       "      <td>1</td>\n",
       "      <td>0</td>\n",
       "      <td>0</td>\n",
       "      <td>0</td>\n",
       "      <td>0</td>\n",
       "      <td>0</td>\n",
       "      <td>0</td>\n",
       "      <td>0</td>\n",
       "      <td>0</td>\n",
       "    </tr>\n",
       "    <tr>\n",
       "      <th>2343</th>\n",
       "      <td>Lead Add Form</td>\n",
       "      <td>Reference</td>\n",
       "      <td>0</td>\n",
       "      <td>-1.060478</td>\n",
       "      <td>Email Opened</td>\n",
       "      <td>Mumbai</td>\n",
       "      <td>0</td>\n",
       "      <td>Modified</td>\n",
       "      <td>-1.311024</td>\n",
       "      <td>-0.955303</td>\n",
       "      <td>...</td>\n",
       "      <td>0</td>\n",
       "      <td>0</td>\n",
       "      <td>0</td>\n",
       "      <td>0</td>\n",
       "      <td>1</td>\n",
       "      <td>0</td>\n",
       "      <td>0</td>\n",
       "      <td>0</td>\n",
       "      <td>0</td>\n",
       "      <td>0</td>\n",
       "    </tr>\n",
       "  </tbody>\n",
       "</table>\n",
       "<p>5 rows × 61 columns</p>\n",
       "</div>"
      ],
      "text/plain": [
       "                  Lead Origin Lead Source  Do Not Email  \\\n",
       "1737                      API  Olark Chat             0   \n",
       "161                       API  Olark Chat             0   \n",
       "394   Landing Page Submission      Google             0   \n",
       "8399                      API      Google             0   \n",
       "2343            Lead Add Form   Reference             0   \n",
       "\n",
       "      Total Time Spent on Website             Last Activity  \\\n",
       "1737                    -0.767149              Email Opened   \n",
       "161                      2.146700  Had a Phone Conversation   \n",
       "394                     -0.855501   Page Visited on Website   \n",
       "8399                    -1.035739              Email Opened   \n",
       "2343                    -1.060478              Email Opened   \n",
       "\n",
       "                             City  A free copy of Mastering The Interview  \\\n",
       "1737                       Mumbai                                       0   \n",
       "161   Other Cities of Maharashtra                                       1   \n",
       "394   Other Cities of Maharashtra                                       0   \n",
       "8399                       Mumbai                                       0   \n",
       "2343                       Mumbai                                       0   \n",
       "\n",
       "         Last Notable Activity  Page Views Per Visit  TotalVisits  ...  \\\n",
       "1737              Email Opened             -0.618958    -0.271296  ...   \n",
       "161   Had a Phone Conversation              0.225363     1.324722  ...   \n",
       "394    Page Visited on Website              0.382231     1.552725  ...   \n",
       "8399              Email Opened             -0.849647    -0.271296  ...   \n",
       "2343                  Modified             -1.311024    -0.955303  ...   \n",
       "\n",
       "      Email Marked Spam  Email Opened  Email Received  \\\n",
       "1737                  0             1               0   \n",
       "161                   0             0               0   \n",
       "394                   0             0               0   \n",
       "8399                  0             1               0   \n",
       "2343                  0             0               0   \n",
       "\n",
       "      Had a Phone Conversation  Modified  Olark Chat Conversation  \\\n",
       "1737                         0         0                        0   \n",
       "161                          1         0                        0   \n",
       "394                          0         0                        0   \n",
       "8399                         0         0                        0   \n",
       "2343                         0         1                        0   \n",
       "\n",
       "      Page Visited on Website  SMS Sent  Unreachable  Unsubscribed  \n",
       "1737                        0         0            0             0  \n",
       "161                         0         0            0             0  \n",
       "394                         1         0            0             0  \n",
       "8399                        0         0            0             0  \n",
       "2343                        0         0            0             0  \n",
       "\n",
       "[5 rows x 61 columns]"
      ]
     },
     "execution_count": 129,
     "metadata": {},
     "output_type": "execute_result"
    }
   ],
   "source": [
    "# Scaling the numerical columns\n",
    "# Before scaling numerical featues, convert the datatypes of columns Do Not Email, COnverted as obejct dtype\n",
    "scaler = StandardScaler()\n",
    "\n",
    "X_train[['Total Time Spent on Website', 'Page Views Per Visit', 'TotalVisits']] = scaler.fit_transform(\n",
    "    X_train[['Total Time Spent on Website', 'Page Views Per Visit', 'TotalVisits']])\n",
    "X_train.head()"
   ]
  },
  {
   "cell_type": "code",
   "execution_count": 130,
   "metadata": {},
   "outputs": [
    {
     "data": {
      "text/html": [
       "<div>\n",
       "<style scoped>\n",
       "    .dataframe tbody tr th:only-of-type {\n",
       "        vertical-align: middle;\n",
       "    }\n",
       "\n",
       "    .dataframe tbody tr th {\n",
       "        vertical-align: top;\n",
       "    }\n",
       "\n",
       "    .dataframe thead th {\n",
       "        text-align: right;\n",
       "    }\n",
       "</style>\n",
       "<table border=\"1\" class=\"dataframe\">\n",
       "  <thead>\n",
       "    <tr style=\"text-align: right;\">\n",
       "      <th></th>\n",
       "      <th>Total Time Spent on Website</th>\n",
       "      <th>Page Views Per Visit</th>\n",
       "      <th>TotalVisits</th>\n",
       "    </tr>\n",
       "  </thead>\n",
       "  <tbody>\n",
       "    <tr>\n",
       "      <th>1737</th>\n",
       "      <td>-0.767149</td>\n",
       "      <td>-0.618958</td>\n",
       "      <td>-0.271296</td>\n",
       "    </tr>\n",
       "    <tr>\n",
       "      <th>161</th>\n",
       "      <td>2.146700</td>\n",
       "      <td>0.225363</td>\n",
       "      <td>1.324722</td>\n",
       "    </tr>\n",
       "    <tr>\n",
       "      <th>394</th>\n",
       "      <td>-0.855501</td>\n",
       "      <td>0.382231</td>\n",
       "      <td>1.552725</td>\n",
       "    </tr>\n",
       "    <tr>\n",
       "      <th>8399</th>\n",
       "      <td>-1.035739</td>\n",
       "      <td>-0.849647</td>\n",
       "      <td>-0.271296</td>\n",
       "    </tr>\n",
       "    <tr>\n",
       "      <th>2343</th>\n",
       "      <td>-1.060478</td>\n",
       "      <td>-1.311024</td>\n",
       "      <td>-0.955303</td>\n",
       "    </tr>\n",
       "  </tbody>\n",
       "</table>\n",
       "</div>"
      ],
      "text/plain": [
       "      Total Time Spent on Website  Page Views Per Visit  TotalVisits\n",
       "1737                    -0.767149             -0.618958    -0.271296\n",
       "161                      2.146700              0.225363     1.324722\n",
       "394                     -0.855501              0.382231     1.552725\n",
       "8399                    -1.035739             -0.849647    -0.271296\n",
       "2343                    -1.060478             -1.311024    -0.955303"
      ]
     },
     "execution_count": 130,
     "metadata": {},
     "output_type": "execute_result"
    }
   ],
   "source": [
    "X_train[['Total Time Spent on Website', 'Page Views Per Visit', 'TotalVisits']].head()"
   ]
  },
  {
   "cell_type": "code",
   "execution_count": 133,
   "metadata": {},
   "outputs": [
    {
     "ename": "KeyError",
     "evalue": "'Lead Score'",
     "output_type": "error",
     "traceback": [
      "\u001b[1;31m---------------------------------------------------------------------------\u001b[0m",
      "\u001b[1;31mKeyError\u001b[0m                                  Traceback (most recent call last)",
      "\u001b[1;32m~\\Anaconda3\\lib\\site-packages\\pandas\\core\\indexes\\base.py\u001b[0m in \u001b[0;36mget_loc\u001b[1;34m(self, key, method, tolerance)\u001b[0m\n\u001b[0;32m   2645\u001b[0m             \u001b[1;32mtry\u001b[0m\u001b[1;33m:\u001b[0m\u001b[1;33m\u001b[0m\u001b[0m\n\u001b[1;32m-> 2646\u001b[1;33m                 \u001b[1;32mreturn\u001b[0m \u001b[0mself\u001b[0m\u001b[1;33m.\u001b[0m\u001b[0m_engine\u001b[0m\u001b[1;33m.\u001b[0m\u001b[0mget_loc\u001b[0m\u001b[1;33m(\u001b[0m\u001b[0mkey\u001b[0m\u001b[1;33m)\u001b[0m\u001b[1;33m\u001b[0m\u001b[0m\n\u001b[0m\u001b[0;32m   2647\u001b[0m             \u001b[1;32mexcept\u001b[0m \u001b[0mKeyError\u001b[0m\u001b[1;33m:\u001b[0m\u001b[1;33m\u001b[0m\u001b[0m\n",
      "\u001b[1;32mpandas\\_libs\\index.pyx\u001b[0m in \u001b[0;36mpandas._libs.index.IndexEngine.get_loc\u001b[1;34m()\u001b[0m\n",
      "\u001b[1;32mpandas\\_libs\\index.pyx\u001b[0m in \u001b[0;36mpandas._libs.index.IndexEngine.get_loc\u001b[1;34m()\u001b[0m\n",
      "\u001b[1;32mpandas\\_libs\\index.pyx\u001b[0m in \u001b[0;36mpandas._libs.index.IndexEngine._get_loc_duplicates\u001b[1;34m()\u001b[0m\n",
      "\u001b[1;32mpandas\\_libs\\index.pyx\u001b[0m in \u001b[0;36mpandas._libs.index.IndexEngine._maybe_get_bool_indexer\u001b[1;34m()\u001b[0m\n",
      "\u001b[1;31mKeyError\u001b[0m: 'Lead Score'",
      "\nDuring handling of the above exception, another exception occurred:\n",
      "\u001b[1;31mKeyError\u001b[0m                                  Traceback (most recent call last)",
      "\u001b[1;32m<ipython-input-133-19161b69ff43>\u001b[0m in \u001b[0;36m<module>\u001b[1;34m\u001b[0m\n\u001b[1;32m----> 1\u001b[1;33m \u001b[0mdf\u001b[0m\u001b[1;33m[\u001b[0m\u001b[1;34m'Lead Score'\u001b[0m\u001b[1;33m]\u001b[0m\u001b[1;33m.\u001b[0m\u001b[0mvalue_counts\u001b[0m\u001b[1;33m(\u001b[0m\u001b[1;33m)\u001b[0m\u001b[1;33m/\u001b[0m\u001b[0mlen\u001b[0m\u001b[1;33m(\u001b[0m\u001b[0mdf\u001b[0m\u001b[1;33m)\u001b[0m\u001b[1;33m*\u001b[0m\u001b[1;36m100\u001b[0m\u001b[1;33m\u001b[0m\u001b[0m\n\u001b[0m",
      "\u001b[1;32m~\\Anaconda3\\lib\\site-packages\\pandas\\core\\frame.py\u001b[0m in \u001b[0;36m__getitem__\u001b[1;34m(self, key)\u001b[0m\n\u001b[0;32m   2798\u001b[0m             \u001b[1;32mif\u001b[0m \u001b[0mself\u001b[0m\u001b[1;33m.\u001b[0m\u001b[0mcolumns\u001b[0m\u001b[1;33m.\u001b[0m\u001b[0mnlevels\u001b[0m \u001b[1;33m>\u001b[0m \u001b[1;36m1\u001b[0m\u001b[1;33m:\u001b[0m\u001b[1;33m\u001b[0m\u001b[0m\n\u001b[0;32m   2799\u001b[0m                 \u001b[1;32mreturn\u001b[0m \u001b[0mself\u001b[0m\u001b[1;33m.\u001b[0m\u001b[0m_getitem_multilevel\u001b[0m\u001b[1;33m(\u001b[0m\u001b[0mkey\u001b[0m\u001b[1;33m)\u001b[0m\u001b[1;33m\u001b[0m\u001b[0m\n\u001b[1;32m-> 2800\u001b[1;33m             \u001b[0mindexer\u001b[0m \u001b[1;33m=\u001b[0m \u001b[0mself\u001b[0m\u001b[1;33m.\u001b[0m\u001b[0mcolumns\u001b[0m\u001b[1;33m.\u001b[0m\u001b[0mget_loc\u001b[0m\u001b[1;33m(\u001b[0m\u001b[0mkey\u001b[0m\u001b[1;33m)\u001b[0m\u001b[1;33m\u001b[0m\u001b[0m\n\u001b[0m\u001b[0;32m   2801\u001b[0m             \u001b[1;32mif\u001b[0m \u001b[0mis_integer\u001b[0m\u001b[1;33m(\u001b[0m\u001b[0mindexer\u001b[0m\u001b[1;33m)\u001b[0m\u001b[1;33m:\u001b[0m\u001b[1;33m\u001b[0m\u001b[0m\n\u001b[0;32m   2802\u001b[0m                 \u001b[0mindexer\u001b[0m \u001b[1;33m=\u001b[0m \u001b[1;33m[\u001b[0m\u001b[0mindexer\u001b[0m\u001b[1;33m]\u001b[0m\u001b[1;33m\u001b[0m\u001b[0m\n",
      "\u001b[1;32m~\\Anaconda3\\lib\\site-packages\\pandas\\core\\indexes\\base.py\u001b[0m in \u001b[0;36mget_loc\u001b[1;34m(self, key, method, tolerance)\u001b[0m\n\u001b[0;32m   2646\u001b[0m                 \u001b[1;32mreturn\u001b[0m \u001b[0mself\u001b[0m\u001b[1;33m.\u001b[0m\u001b[0m_engine\u001b[0m\u001b[1;33m.\u001b[0m\u001b[0mget_loc\u001b[0m\u001b[1;33m(\u001b[0m\u001b[0mkey\u001b[0m\u001b[1;33m)\u001b[0m\u001b[1;33m\u001b[0m\u001b[0m\n\u001b[0;32m   2647\u001b[0m             \u001b[1;32mexcept\u001b[0m \u001b[0mKeyError\u001b[0m\u001b[1;33m:\u001b[0m\u001b[1;33m\u001b[0m\u001b[0m\n\u001b[1;32m-> 2648\u001b[1;33m                 \u001b[1;32mreturn\u001b[0m \u001b[0mself\u001b[0m\u001b[1;33m.\u001b[0m\u001b[0m_engine\u001b[0m\u001b[1;33m.\u001b[0m\u001b[0mget_loc\u001b[0m\u001b[1;33m(\u001b[0m\u001b[0mself\u001b[0m\u001b[1;33m.\u001b[0m\u001b[0m_maybe_cast_indexer\u001b[0m\u001b[1;33m(\u001b[0m\u001b[0mkey\u001b[0m\u001b[1;33m)\u001b[0m\u001b[1;33m)\u001b[0m\u001b[1;33m\u001b[0m\u001b[0m\n\u001b[0m\u001b[0;32m   2649\u001b[0m         \u001b[0mindexer\u001b[0m \u001b[1;33m=\u001b[0m \u001b[0mself\u001b[0m\u001b[1;33m.\u001b[0m\u001b[0mget_indexer\u001b[0m\u001b[1;33m(\u001b[0m\u001b[1;33m[\u001b[0m\u001b[0mkey\u001b[0m\u001b[1;33m]\u001b[0m\u001b[1;33m,\u001b[0m \u001b[0mmethod\u001b[0m\u001b[1;33m=\u001b[0m\u001b[0mmethod\u001b[0m\u001b[1;33m,\u001b[0m \u001b[0mtolerance\u001b[0m\u001b[1;33m=\u001b[0m\u001b[0mtolerance\u001b[0m\u001b[1;33m)\u001b[0m\u001b[1;33m\u001b[0m\u001b[0m\n\u001b[0;32m   2650\u001b[0m         \u001b[1;32mif\u001b[0m \u001b[0mindexer\u001b[0m\u001b[1;33m.\u001b[0m\u001b[0mndim\u001b[0m \u001b[1;33m>\u001b[0m \u001b[1;36m1\u001b[0m \u001b[1;32mor\u001b[0m \u001b[0mindexer\u001b[0m\u001b[1;33m.\u001b[0m\u001b[0msize\u001b[0m \u001b[1;33m>\u001b[0m \u001b[1;36m1\u001b[0m\u001b[1;33m:\u001b[0m\u001b[1;33m\u001b[0m\u001b[0m\n",
      "\u001b[1;32mpandas\\_libs\\index.pyx\u001b[0m in \u001b[0;36mpandas._libs.index.IndexEngine.get_loc\u001b[1;34m()\u001b[0m\n",
      "\u001b[1;32mpandas\\_libs\\index.pyx\u001b[0m in \u001b[0;36mpandas._libs.index.IndexEngine.get_loc\u001b[1;34m()\u001b[0m\n",
      "\u001b[1;32mpandas\\_libs\\index.pyx\u001b[0m in \u001b[0;36mpandas._libs.index.IndexEngine._get_loc_duplicates\u001b[1;34m()\u001b[0m\n",
      "\u001b[1;32mpandas\\_libs\\index.pyx\u001b[0m in \u001b[0;36mpandas._libs.index.IndexEngine._maybe_get_bool_indexer\u001b[1;34m()\u001b[0m\n",
      "\u001b[1;31mKeyError\u001b[0m: 'Lead Score'"
     ]
    }
   ],
   "source": [
    "df['Lead Score'].value_counts()/len(df)*100"
   ]
  },
  {
   "cell_type": "code",
   "execution_count": null,
   "metadata": {},
   "outputs": [],
   "source": []
  }
 ],
 "metadata": {
  "kernelspec": {
   "display_name": "Python 3",
   "language": "python",
   "name": "python3"
  },
  "language_info": {
   "codemirror_mode": {
    "name": "ipython",
    "version": 3
   },
   "file_extension": ".py",
   "mimetype": "text/x-python",
   "name": "python",
   "nbconvert_exporter": "python",
   "pygments_lexer": "ipython3",
   "version": "3.6.5"
  }
 },
 "nbformat": 4,
 "nbformat_minor": 4
}
